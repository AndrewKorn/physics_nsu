{
  "nbformat": 4,
  "nbformat_minor": 0,
  "metadata": {
    "colab": {
      "name": "wave_function_on_time.ipynb",
      "provenance": [],
      "collapsed_sections": []
    },
    "kernelspec": {
      "name": "python3",
      "display_name": "Python 3"
    },
    "language_info": {
      "name": "python"
    },
    "widgets": {
      "application/vnd.jupyter.widget-state+json": {
        "745132d138bc412e9067b1e5a896fe0a": {
          "model_module": "@jupyter-widgets/controls",
          "model_name": "VBoxModel",
          "model_module_version": "1.5.0",
          "state": {
            "_dom_classes": [
              "widget-interact"
            ],
            "_model_module": "@jupyter-widgets/controls",
            "_model_module_version": "1.5.0",
            "_model_name": "VBoxModel",
            "_view_count": null,
            "_view_module": "@jupyter-widgets/controls",
            "_view_module_version": "1.5.0",
            "_view_name": "VBoxView",
            "box_style": "",
            "children": [
              "IPY_MODEL_aadddbe08f0d44d086b2195aa88de329",
              "IPY_MODEL_43e09583e7ed4611b3b44a2a6975ec32",
              "IPY_MODEL_dcff15baf4424d9795da3c765d09ca87",
              "IPY_MODEL_0487c71317c24fe6aa5e1fc3c6b781f3",
              "IPY_MODEL_31e423fcd7014ffc8fa62b3846afb40a"
            ],
            "layout": "IPY_MODEL_1b0cc25075044877a1d3739b85abe8de"
          }
        },
        "aadddbe08f0d44d086b2195aa88de329": {
          "model_module": "@jupyter-widgets/controls",
          "model_name": "FloatSliderModel",
          "model_module_version": "1.5.0",
          "state": {
            "_dom_classes": [],
            "_model_module": "@jupyter-widgets/controls",
            "_model_module_version": "1.5.0",
            "_model_name": "FloatSliderModel",
            "_view_count": null,
            "_view_module": "@jupyter-widgets/controls",
            "_view_module_version": "1.5.0",
            "_view_name": "FloatSliderView",
            "continuous_update": true,
            "description": "t",
            "description_tooltip": null,
            "disabled": false,
            "layout": "IPY_MODEL_65d3a5773695440a9ff91dd82669fad5",
            "max": 2,
            "min": 0,
            "orientation": "horizontal",
            "readout": true,
            "readout_format": ".2f",
            "step": 0.05,
            "style": "IPY_MODEL_8c7b8a02719b477b9292675732e038e1",
            "value": 2
          }
        },
        "43e09583e7ed4611b3b44a2a6975ec32": {
          "model_module": "@jupyter-widgets/controls",
          "model_name": "FloatSliderModel",
          "model_module_version": "1.5.0",
          "state": {
            "_dom_classes": [],
            "_model_module": "@jupyter-widgets/controls",
            "_model_module_version": "1.5.0",
            "_model_name": "FloatSliderModel",
            "_view_count": null,
            "_view_module": "@jupyter-widgets/controls",
            "_view_module_version": "1.5.0",
            "_view_name": "FloatSliderView",
            "continuous_update": true,
            "description": "a",
            "description_tooltip": null,
            "disabled": false,
            "layout": "IPY_MODEL_0edce983ec824e20adbdfd35825d38c9",
            "max": 10,
            "min": 1,
            "orientation": "horizontal",
            "readout": true,
            "readout_format": ".2f",
            "step": 0.1,
            "style": "IPY_MODEL_93856ff970d44c3ab26a1bee19696d0a",
            "value": 1
          }
        },
        "dcff15baf4424d9795da3c765d09ca87": {
          "model_module": "@jupyter-widgets/controls",
          "model_name": "FloatSliderModel",
          "model_module_version": "1.5.0",
          "state": {
            "_dom_classes": [],
            "_model_module": "@jupyter-widgets/controls",
            "_model_module_version": "1.5.0",
            "_model_name": "FloatSliderModel",
            "_view_count": null,
            "_view_module": "@jupyter-widgets/controls",
            "_view_module_version": "1.5.0",
            "_view_name": "FloatSliderView",
            "continuous_update": true,
            "description": "m",
            "description_tooltip": null,
            "disabled": false,
            "layout": "IPY_MODEL_b49c0266d7664279a8e07abba939516c",
            "max": 10,
            "min": 1,
            "orientation": "horizontal",
            "readout": true,
            "readout_format": ".2f",
            "step": 0.1,
            "style": "IPY_MODEL_3e82a811976b47f2be36f8093f8eca9e",
            "value": 1
          }
        },
        "0487c71317c24fe6aa5e1fc3c6b781f3": {
          "model_module": "@jupyter-widgets/controls",
          "model_name": "FloatSliderModel",
          "model_module_version": "1.5.0",
          "state": {
            "_dom_classes": [],
            "_model_module": "@jupyter-widgets/controls",
            "_model_module_version": "1.5.0",
            "_model_name": "FloatSliderModel",
            "_view_count": null,
            "_view_module": "@jupyter-widgets/controls",
            "_view_module_version": "1.5.0",
            "_view_name": "FloatSliderView",
            "continuous_update": true,
            "description": "k",
            "description_tooltip": null,
            "disabled": false,
            "layout": "IPY_MODEL_8ea188916ad34357be37bff5729709eb",
            "max": 5,
            "min": 1,
            "orientation": "horizontal",
            "readout": true,
            "readout_format": ".2f",
            "step": 0.1,
            "style": "IPY_MODEL_d421d244c7c5460888789c56974e92ce",
            "value": 1
          }
        },
        "31e423fcd7014ffc8fa62b3846afb40a": {
          "model_module": "@jupyter-widgets/output",
          "model_name": "OutputModel",
          "model_module_version": "1.0.0",
          "state": {
            "_dom_classes": [],
            "_model_module": "@jupyter-widgets/output",
            "_model_module_version": "1.0.0",
            "_model_name": "OutputModel",
            "_view_count": null,
            "_view_module": "@jupyter-widgets/output",
            "_view_module_version": "1.0.0",
            "_view_name": "OutputView",
            "layout": "IPY_MODEL_2ea7d67ed2004563b78317e1b0a55003",
            "msg_id": "",
            "outputs": [
              {
                "output_type": "display_data",
                "data": {
                  "text/plain": "<Figure size 432x288 with 1 Axes>",
                  "image/png": "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\n"
                },
                "metadata": {
                  "needs_background": "light"
                }
              },
              {
                "output_type": "display_data",
                "data": {
                  "text/plain": "<module 'matplotlib.pyplot' from '/usr/local/lib/python3.7/dist-packages/matplotlib/pyplot.py'>"
                },
                "metadata": {}
              }
            ]
          }
        },
        "1b0cc25075044877a1d3739b85abe8de": {
          "model_module": "@jupyter-widgets/base",
          "model_name": "LayoutModel",
          "model_module_version": "1.2.0",
          "state": {
            "_model_module": "@jupyter-widgets/base",
            "_model_module_version": "1.2.0",
            "_model_name": "LayoutModel",
            "_view_count": null,
            "_view_module": "@jupyter-widgets/base",
            "_view_module_version": "1.2.0",
            "_view_name": "LayoutView",
            "align_content": null,
            "align_items": null,
            "align_self": null,
            "border": null,
            "bottom": null,
            "display": null,
            "flex": null,
            "flex_flow": null,
            "grid_area": null,
            "grid_auto_columns": null,
            "grid_auto_flow": null,
            "grid_auto_rows": null,
            "grid_column": null,
            "grid_gap": null,
            "grid_row": null,
            "grid_template_areas": null,
            "grid_template_columns": null,
            "grid_template_rows": null,
            "height": null,
            "justify_content": null,
            "justify_items": null,
            "left": null,
            "margin": null,
            "max_height": null,
            "max_width": null,
            "min_height": null,
            "min_width": null,
            "object_fit": null,
            "object_position": null,
            "order": null,
            "overflow": null,
            "overflow_x": null,
            "overflow_y": null,
            "padding": null,
            "right": null,
            "top": null,
            "visibility": null,
            "width": null
          }
        },
        "65d3a5773695440a9ff91dd82669fad5": {
          "model_module": "@jupyter-widgets/base",
          "model_name": "LayoutModel",
          "model_module_version": "1.2.0",
          "state": {
            "_model_module": "@jupyter-widgets/base",
            "_model_module_version": "1.2.0",
            "_model_name": "LayoutModel",
            "_view_count": null,
            "_view_module": "@jupyter-widgets/base",
            "_view_module_version": "1.2.0",
            "_view_name": "LayoutView",
            "align_content": null,
            "align_items": null,
            "align_self": null,
            "border": null,
            "bottom": null,
            "display": null,
            "flex": null,
            "flex_flow": null,
            "grid_area": null,
            "grid_auto_columns": null,
            "grid_auto_flow": null,
            "grid_auto_rows": null,
            "grid_column": null,
            "grid_gap": null,
            "grid_row": null,
            "grid_template_areas": null,
            "grid_template_columns": null,
            "grid_template_rows": null,
            "height": null,
            "justify_content": null,
            "justify_items": null,
            "left": null,
            "margin": null,
            "max_height": null,
            "max_width": null,
            "min_height": null,
            "min_width": null,
            "object_fit": null,
            "object_position": null,
            "order": null,
            "overflow": null,
            "overflow_x": null,
            "overflow_y": null,
            "padding": null,
            "right": null,
            "top": null,
            "visibility": null,
            "width": null
          }
        },
        "8c7b8a02719b477b9292675732e038e1": {
          "model_module": "@jupyter-widgets/controls",
          "model_name": "SliderStyleModel",
          "model_module_version": "1.5.0",
          "state": {
            "_model_module": "@jupyter-widgets/controls",
            "_model_module_version": "1.5.0",
            "_model_name": "SliderStyleModel",
            "_view_count": null,
            "_view_module": "@jupyter-widgets/base",
            "_view_module_version": "1.2.0",
            "_view_name": "StyleView",
            "description_width": "",
            "handle_color": null
          }
        },
        "0edce983ec824e20adbdfd35825d38c9": {
          "model_module": "@jupyter-widgets/base",
          "model_name": "LayoutModel",
          "model_module_version": "1.2.0",
          "state": {
            "_model_module": "@jupyter-widgets/base",
            "_model_module_version": "1.2.0",
            "_model_name": "LayoutModel",
            "_view_count": null,
            "_view_module": "@jupyter-widgets/base",
            "_view_module_version": "1.2.0",
            "_view_name": "LayoutView",
            "align_content": null,
            "align_items": null,
            "align_self": null,
            "border": null,
            "bottom": null,
            "display": null,
            "flex": null,
            "flex_flow": null,
            "grid_area": null,
            "grid_auto_columns": null,
            "grid_auto_flow": null,
            "grid_auto_rows": null,
            "grid_column": null,
            "grid_gap": null,
            "grid_row": null,
            "grid_template_areas": null,
            "grid_template_columns": null,
            "grid_template_rows": null,
            "height": null,
            "justify_content": null,
            "justify_items": null,
            "left": null,
            "margin": null,
            "max_height": null,
            "max_width": null,
            "min_height": null,
            "min_width": null,
            "object_fit": null,
            "object_position": null,
            "order": null,
            "overflow": null,
            "overflow_x": null,
            "overflow_y": null,
            "padding": null,
            "right": null,
            "top": null,
            "visibility": null,
            "width": null
          }
        },
        "93856ff970d44c3ab26a1bee19696d0a": {
          "model_module": "@jupyter-widgets/controls",
          "model_name": "SliderStyleModel",
          "model_module_version": "1.5.0",
          "state": {
            "_model_module": "@jupyter-widgets/controls",
            "_model_module_version": "1.5.0",
            "_model_name": "SliderStyleModel",
            "_view_count": null,
            "_view_module": "@jupyter-widgets/base",
            "_view_module_version": "1.2.0",
            "_view_name": "StyleView",
            "description_width": "",
            "handle_color": null
          }
        },
        "b49c0266d7664279a8e07abba939516c": {
          "model_module": "@jupyter-widgets/base",
          "model_name": "LayoutModel",
          "model_module_version": "1.2.0",
          "state": {
            "_model_module": "@jupyter-widgets/base",
            "_model_module_version": "1.2.0",
            "_model_name": "LayoutModel",
            "_view_count": null,
            "_view_module": "@jupyter-widgets/base",
            "_view_module_version": "1.2.0",
            "_view_name": "LayoutView",
            "align_content": null,
            "align_items": null,
            "align_self": null,
            "border": null,
            "bottom": null,
            "display": null,
            "flex": null,
            "flex_flow": null,
            "grid_area": null,
            "grid_auto_columns": null,
            "grid_auto_flow": null,
            "grid_auto_rows": null,
            "grid_column": null,
            "grid_gap": null,
            "grid_row": null,
            "grid_template_areas": null,
            "grid_template_columns": null,
            "grid_template_rows": null,
            "height": null,
            "justify_content": null,
            "justify_items": null,
            "left": null,
            "margin": null,
            "max_height": null,
            "max_width": null,
            "min_height": null,
            "min_width": null,
            "object_fit": null,
            "object_position": null,
            "order": null,
            "overflow": null,
            "overflow_x": null,
            "overflow_y": null,
            "padding": null,
            "right": null,
            "top": null,
            "visibility": null,
            "width": null
          }
        },
        "3e82a811976b47f2be36f8093f8eca9e": {
          "model_module": "@jupyter-widgets/controls",
          "model_name": "SliderStyleModel",
          "model_module_version": "1.5.0",
          "state": {
            "_model_module": "@jupyter-widgets/controls",
            "_model_module_version": "1.5.0",
            "_model_name": "SliderStyleModel",
            "_view_count": null,
            "_view_module": "@jupyter-widgets/base",
            "_view_module_version": "1.2.0",
            "_view_name": "StyleView",
            "description_width": "",
            "handle_color": null
          }
        },
        "8ea188916ad34357be37bff5729709eb": {
          "model_module": "@jupyter-widgets/base",
          "model_name": "LayoutModel",
          "model_module_version": "1.2.0",
          "state": {
            "_model_module": "@jupyter-widgets/base",
            "_model_module_version": "1.2.0",
            "_model_name": "LayoutModel",
            "_view_count": null,
            "_view_module": "@jupyter-widgets/base",
            "_view_module_version": "1.2.0",
            "_view_name": "LayoutView",
            "align_content": null,
            "align_items": null,
            "align_self": null,
            "border": null,
            "bottom": null,
            "display": null,
            "flex": null,
            "flex_flow": null,
            "grid_area": null,
            "grid_auto_columns": null,
            "grid_auto_flow": null,
            "grid_auto_rows": null,
            "grid_column": null,
            "grid_gap": null,
            "grid_row": null,
            "grid_template_areas": null,
            "grid_template_columns": null,
            "grid_template_rows": null,
            "height": null,
            "justify_content": null,
            "justify_items": null,
            "left": null,
            "margin": null,
            "max_height": null,
            "max_width": null,
            "min_height": null,
            "min_width": null,
            "object_fit": null,
            "object_position": null,
            "order": null,
            "overflow": null,
            "overflow_x": null,
            "overflow_y": null,
            "padding": null,
            "right": null,
            "top": null,
            "visibility": null,
            "width": null
          }
        },
        "d421d244c7c5460888789c56974e92ce": {
          "model_module": "@jupyter-widgets/controls",
          "model_name": "SliderStyleModel",
          "model_module_version": "1.5.0",
          "state": {
            "_model_module": "@jupyter-widgets/controls",
            "_model_module_version": "1.5.0",
            "_model_name": "SliderStyleModel",
            "_view_count": null,
            "_view_module": "@jupyter-widgets/base",
            "_view_module_version": "1.2.0",
            "_view_name": "StyleView",
            "description_width": "",
            "handle_color": null
          }
        },
        "2ea7d67ed2004563b78317e1b0a55003": {
          "model_module": "@jupyter-widgets/base",
          "model_name": "LayoutModel",
          "model_module_version": "1.2.0",
          "state": {
            "_model_module": "@jupyter-widgets/base",
            "_model_module_version": "1.2.0",
            "_model_name": "LayoutModel",
            "_view_count": null,
            "_view_module": "@jupyter-widgets/base",
            "_view_module_version": "1.2.0",
            "_view_name": "LayoutView",
            "align_content": null,
            "align_items": null,
            "align_self": null,
            "border": null,
            "bottom": null,
            "display": null,
            "flex": null,
            "flex_flow": null,
            "grid_area": null,
            "grid_auto_columns": null,
            "grid_auto_flow": null,
            "grid_auto_rows": null,
            "grid_column": null,
            "grid_gap": null,
            "grid_row": null,
            "grid_template_areas": null,
            "grid_template_columns": null,
            "grid_template_rows": null,
            "height": null,
            "justify_content": null,
            "justify_items": null,
            "left": null,
            "margin": null,
            "max_height": null,
            "max_width": null,
            "min_height": null,
            "min_width": null,
            "object_fit": null,
            "object_position": null,
            "order": null,
            "overflow": null,
            "overflow_x": null,
            "overflow_y": null,
            "padding": null,
            "right": null,
            "top": null,
            "visibility": null,
            "width": null
          }
        },
        "e26cdf8e78504fe6aa4ada7565d0d984": {
          "model_module": "@jupyter-widgets/controls",
          "model_name": "VBoxModel",
          "model_module_version": "1.5.0",
          "state": {
            "_dom_classes": [
              "widget-interact"
            ],
            "_model_module": "@jupyter-widgets/controls",
            "_model_module_version": "1.5.0",
            "_model_name": "VBoxModel",
            "_view_count": null,
            "_view_module": "@jupyter-widgets/controls",
            "_view_module_version": "1.5.0",
            "_view_name": "VBoxView",
            "box_style": "",
            "children": [
              "IPY_MODEL_4a2b906c5e5b43578483b20bcc213691",
              "IPY_MODEL_806e8f86c90b4a3c97f0f553355f2be8",
              "IPY_MODEL_b2db56fe358b4078accf64cb9deae582",
              "IPY_MODEL_9d9b89ec474a4c4eb030a041659c13fb",
              "IPY_MODEL_0b0cddd7aeb04ac69fd427e0a2f7a674"
            ],
            "layout": "IPY_MODEL_ef0b87196de44ffe8e14e6be925c8584"
          }
        },
        "4a2b906c5e5b43578483b20bcc213691": {
          "model_module": "@jupyter-widgets/controls",
          "model_name": "FloatSliderModel",
          "model_module_version": "1.5.0",
          "state": {
            "_dom_classes": [],
            "_model_module": "@jupyter-widgets/controls",
            "_model_module_version": "1.5.0",
            "_model_name": "FloatSliderModel",
            "_view_count": null,
            "_view_module": "@jupyter-widgets/controls",
            "_view_module_version": "1.5.0",
            "_view_name": "FloatSliderView",
            "continuous_update": true,
            "description": "t",
            "description_tooltip": null,
            "disabled": false,
            "layout": "IPY_MODEL_3c498f3392364e0e80f0e6b0c894f99a",
            "max": 10,
            "min": 0,
            "orientation": "horizontal",
            "readout": true,
            "readout_format": ".2f",
            "step": 1,
            "style": "IPY_MODEL_5982d3a07e5e4f1bb9f11a173931c674",
            "value": 0
          }
        },
        "806e8f86c90b4a3c97f0f553355f2be8": {
          "model_module": "@jupyter-widgets/controls",
          "model_name": "FloatSliderModel",
          "model_module_version": "1.5.0",
          "state": {
            "_dom_classes": [],
            "_model_module": "@jupyter-widgets/controls",
            "_model_module_version": "1.5.0",
            "_model_name": "FloatSliderModel",
            "_view_count": null,
            "_view_module": "@jupyter-widgets/controls",
            "_view_module_version": "1.5.0",
            "_view_name": "FloatSliderView",
            "continuous_update": true,
            "description": "a",
            "description_tooltip": null,
            "disabled": false,
            "layout": "IPY_MODEL_c5032a0cf6bc413f8d0cc8aeb97471f6",
            "max": 10,
            "min": 1,
            "orientation": "horizontal",
            "readout": true,
            "readout_format": ".2f",
            "step": 0.1,
            "style": "IPY_MODEL_bde0ca5241504d5ab4f3ec1bff5dc30f",
            "value": 1
          }
        },
        "b2db56fe358b4078accf64cb9deae582": {
          "model_module": "@jupyter-widgets/controls",
          "model_name": "FloatSliderModel",
          "model_module_version": "1.5.0",
          "state": {
            "_dom_classes": [],
            "_model_module": "@jupyter-widgets/controls",
            "_model_module_version": "1.5.0",
            "_model_name": "FloatSliderModel",
            "_view_count": null,
            "_view_module": "@jupyter-widgets/controls",
            "_view_module_version": "1.5.0",
            "_view_name": "FloatSliderView",
            "continuous_update": true,
            "description": "m",
            "description_tooltip": null,
            "disabled": false,
            "layout": "IPY_MODEL_0d1eb5e667dc4bcd8859facf64504142",
            "max": 10,
            "min": 1,
            "orientation": "horizontal",
            "readout": true,
            "readout_format": ".2f",
            "step": 0.1,
            "style": "IPY_MODEL_dc5e480c0cd64d1c8ca7db7d14f1894e",
            "value": 1
          }
        },
        "9d9b89ec474a4c4eb030a041659c13fb": {
          "model_module": "@jupyter-widgets/controls",
          "model_name": "FloatSliderModel",
          "model_module_version": "1.5.0",
          "state": {
            "_dom_classes": [],
            "_model_module": "@jupyter-widgets/controls",
            "_model_module_version": "1.5.0",
            "_model_name": "FloatSliderModel",
            "_view_count": null,
            "_view_module": "@jupyter-widgets/controls",
            "_view_module_version": "1.5.0",
            "_view_name": "FloatSliderView",
            "continuous_update": true,
            "description": "k",
            "description_tooltip": null,
            "disabled": false,
            "layout": "IPY_MODEL_604275e2ae724b0eb556ea053f8a7636",
            "max": 5,
            "min": 1,
            "orientation": "horizontal",
            "readout": true,
            "readout_format": ".2f",
            "step": 0.1,
            "style": "IPY_MODEL_96945642c63a43f6a03f51f7ef7a26a8",
            "value": 1
          }
        },
        "0b0cddd7aeb04ac69fd427e0a2f7a674": {
          "model_module": "@jupyter-widgets/output",
          "model_name": "OutputModel",
          "model_module_version": "1.0.0",
          "state": {
            "_dom_classes": [],
            "_model_module": "@jupyter-widgets/output",
            "_model_module_version": "1.0.0",
            "_model_name": "OutputModel",
            "_view_count": null,
            "_view_module": "@jupyter-widgets/output",
            "_view_module_version": "1.0.0",
            "_view_name": "OutputView",
            "layout": "IPY_MODEL_3ac19132b8134b499e123f3bc07f2726",
            "msg_id": "",
            "outputs": [
              {
                "output_type": "display_data",
                "data": {
                  "text/plain": "<Figure size 432x288 with 1 Axes>",
                  "image/png": "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\n"
                },
                "metadata": {
                  "needs_background": "light"
                }
              },
              {
                "output_type": "display_data",
                "data": {
                  "text/plain": "<module 'matplotlib.pyplot' from '/usr/local/lib/python3.7/dist-packages/matplotlib/pyplot.py'>"
                },
                "metadata": {}
              }
            ]
          }
        },
        "ef0b87196de44ffe8e14e6be925c8584": {
          "model_module": "@jupyter-widgets/base",
          "model_name": "LayoutModel",
          "model_module_version": "1.2.0",
          "state": {
            "_model_module": "@jupyter-widgets/base",
            "_model_module_version": "1.2.0",
            "_model_name": "LayoutModel",
            "_view_count": null,
            "_view_module": "@jupyter-widgets/base",
            "_view_module_version": "1.2.0",
            "_view_name": "LayoutView",
            "align_content": null,
            "align_items": null,
            "align_self": null,
            "border": null,
            "bottom": null,
            "display": null,
            "flex": null,
            "flex_flow": null,
            "grid_area": null,
            "grid_auto_columns": null,
            "grid_auto_flow": null,
            "grid_auto_rows": null,
            "grid_column": null,
            "grid_gap": null,
            "grid_row": null,
            "grid_template_areas": null,
            "grid_template_columns": null,
            "grid_template_rows": null,
            "height": null,
            "justify_content": null,
            "justify_items": null,
            "left": null,
            "margin": null,
            "max_height": null,
            "max_width": null,
            "min_height": null,
            "min_width": null,
            "object_fit": null,
            "object_position": null,
            "order": null,
            "overflow": null,
            "overflow_x": null,
            "overflow_y": null,
            "padding": null,
            "right": null,
            "top": null,
            "visibility": null,
            "width": null
          }
        },
        "3c498f3392364e0e80f0e6b0c894f99a": {
          "model_module": "@jupyter-widgets/base",
          "model_name": "LayoutModel",
          "model_module_version": "1.2.0",
          "state": {
            "_model_module": "@jupyter-widgets/base",
            "_model_module_version": "1.2.0",
            "_model_name": "LayoutModel",
            "_view_count": null,
            "_view_module": "@jupyter-widgets/base",
            "_view_module_version": "1.2.0",
            "_view_name": "LayoutView",
            "align_content": null,
            "align_items": null,
            "align_self": null,
            "border": null,
            "bottom": null,
            "display": null,
            "flex": null,
            "flex_flow": null,
            "grid_area": null,
            "grid_auto_columns": null,
            "grid_auto_flow": null,
            "grid_auto_rows": null,
            "grid_column": null,
            "grid_gap": null,
            "grid_row": null,
            "grid_template_areas": null,
            "grid_template_columns": null,
            "grid_template_rows": null,
            "height": null,
            "justify_content": null,
            "justify_items": null,
            "left": null,
            "margin": null,
            "max_height": null,
            "max_width": null,
            "min_height": null,
            "min_width": null,
            "object_fit": null,
            "object_position": null,
            "order": null,
            "overflow": null,
            "overflow_x": null,
            "overflow_y": null,
            "padding": null,
            "right": null,
            "top": null,
            "visibility": null,
            "width": null
          }
        },
        "5982d3a07e5e4f1bb9f11a173931c674": {
          "model_module": "@jupyter-widgets/controls",
          "model_name": "SliderStyleModel",
          "model_module_version": "1.5.0",
          "state": {
            "_model_module": "@jupyter-widgets/controls",
            "_model_module_version": "1.5.0",
            "_model_name": "SliderStyleModel",
            "_view_count": null,
            "_view_module": "@jupyter-widgets/base",
            "_view_module_version": "1.2.0",
            "_view_name": "StyleView",
            "description_width": "",
            "handle_color": null
          }
        },
        "c5032a0cf6bc413f8d0cc8aeb97471f6": {
          "model_module": "@jupyter-widgets/base",
          "model_name": "LayoutModel",
          "model_module_version": "1.2.0",
          "state": {
            "_model_module": "@jupyter-widgets/base",
            "_model_module_version": "1.2.0",
            "_model_name": "LayoutModel",
            "_view_count": null,
            "_view_module": "@jupyter-widgets/base",
            "_view_module_version": "1.2.0",
            "_view_name": "LayoutView",
            "align_content": null,
            "align_items": null,
            "align_self": null,
            "border": null,
            "bottom": null,
            "display": null,
            "flex": null,
            "flex_flow": null,
            "grid_area": null,
            "grid_auto_columns": null,
            "grid_auto_flow": null,
            "grid_auto_rows": null,
            "grid_column": null,
            "grid_gap": null,
            "grid_row": null,
            "grid_template_areas": null,
            "grid_template_columns": null,
            "grid_template_rows": null,
            "height": null,
            "justify_content": null,
            "justify_items": null,
            "left": null,
            "margin": null,
            "max_height": null,
            "max_width": null,
            "min_height": null,
            "min_width": null,
            "object_fit": null,
            "object_position": null,
            "order": null,
            "overflow": null,
            "overflow_x": null,
            "overflow_y": null,
            "padding": null,
            "right": null,
            "top": null,
            "visibility": null,
            "width": null
          }
        },
        "bde0ca5241504d5ab4f3ec1bff5dc30f": {
          "model_module": "@jupyter-widgets/controls",
          "model_name": "SliderStyleModel",
          "model_module_version": "1.5.0",
          "state": {
            "_model_module": "@jupyter-widgets/controls",
            "_model_module_version": "1.5.0",
            "_model_name": "SliderStyleModel",
            "_view_count": null,
            "_view_module": "@jupyter-widgets/base",
            "_view_module_version": "1.2.0",
            "_view_name": "StyleView",
            "description_width": "",
            "handle_color": null
          }
        },
        "0d1eb5e667dc4bcd8859facf64504142": {
          "model_module": "@jupyter-widgets/base",
          "model_name": "LayoutModel",
          "model_module_version": "1.2.0",
          "state": {
            "_model_module": "@jupyter-widgets/base",
            "_model_module_version": "1.2.0",
            "_model_name": "LayoutModel",
            "_view_count": null,
            "_view_module": "@jupyter-widgets/base",
            "_view_module_version": "1.2.0",
            "_view_name": "LayoutView",
            "align_content": null,
            "align_items": null,
            "align_self": null,
            "border": null,
            "bottom": null,
            "display": null,
            "flex": null,
            "flex_flow": null,
            "grid_area": null,
            "grid_auto_columns": null,
            "grid_auto_flow": null,
            "grid_auto_rows": null,
            "grid_column": null,
            "grid_gap": null,
            "grid_row": null,
            "grid_template_areas": null,
            "grid_template_columns": null,
            "grid_template_rows": null,
            "height": null,
            "justify_content": null,
            "justify_items": null,
            "left": null,
            "margin": null,
            "max_height": null,
            "max_width": null,
            "min_height": null,
            "min_width": null,
            "object_fit": null,
            "object_position": null,
            "order": null,
            "overflow": null,
            "overflow_x": null,
            "overflow_y": null,
            "padding": null,
            "right": null,
            "top": null,
            "visibility": null,
            "width": null
          }
        },
        "dc5e480c0cd64d1c8ca7db7d14f1894e": {
          "model_module": "@jupyter-widgets/controls",
          "model_name": "SliderStyleModel",
          "model_module_version": "1.5.0",
          "state": {
            "_model_module": "@jupyter-widgets/controls",
            "_model_module_version": "1.5.0",
            "_model_name": "SliderStyleModel",
            "_view_count": null,
            "_view_module": "@jupyter-widgets/base",
            "_view_module_version": "1.2.0",
            "_view_name": "StyleView",
            "description_width": "",
            "handle_color": null
          }
        },
        "604275e2ae724b0eb556ea053f8a7636": {
          "model_module": "@jupyter-widgets/base",
          "model_name": "LayoutModel",
          "model_module_version": "1.2.0",
          "state": {
            "_model_module": "@jupyter-widgets/base",
            "_model_module_version": "1.2.0",
            "_model_name": "LayoutModel",
            "_view_count": null,
            "_view_module": "@jupyter-widgets/base",
            "_view_module_version": "1.2.0",
            "_view_name": "LayoutView",
            "align_content": null,
            "align_items": null,
            "align_self": null,
            "border": null,
            "bottom": null,
            "display": null,
            "flex": null,
            "flex_flow": null,
            "grid_area": null,
            "grid_auto_columns": null,
            "grid_auto_flow": null,
            "grid_auto_rows": null,
            "grid_column": null,
            "grid_gap": null,
            "grid_row": null,
            "grid_template_areas": null,
            "grid_template_columns": null,
            "grid_template_rows": null,
            "height": null,
            "justify_content": null,
            "justify_items": null,
            "left": null,
            "margin": null,
            "max_height": null,
            "max_width": null,
            "min_height": null,
            "min_width": null,
            "object_fit": null,
            "object_position": null,
            "order": null,
            "overflow": null,
            "overflow_x": null,
            "overflow_y": null,
            "padding": null,
            "right": null,
            "top": null,
            "visibility": null,
            "width": null
          }
        },
        "96945642c63a43f6a03f51f7ef7a26a8": {
          "model_module": "@jupyter-widgets/controls",
          "model_name": "SliderStyleModel",
          "model_module_version": "1.5.0",
          "state": {
            "_model_module": "@jupyter-widgets/controls",
            "_model_module_version": "1.5.0",
            "_model_name": "SliderStyleModel",
            "_view_count": null,
            "_view_module": "@jupyter-widgets/base",
            "_view_module_version": "1.2.0",
            "_view_name": "StyleView",
            "description_width": "",
            "handle_color": null
          }
        },
        "3ac19132b8134b499e123f3bc07f2726": {
          "model_module": "@jupyter-widgets/base",
          "model_name": "LayoutModel",
          "model_module_version": "1.2.0",
          "state": {
            "_model_module": "@jupyter-widgets/base",
            "_model_module_version": "1.2.0",
            "_model_name": "LayoutModel",
            "_view_count": null,
            "_view_module": "@jupyter-widgets/base",
            "_view_module_version": "1.2.0",
            "_view_name": "LayoutView",
            "align_content": null,
            "align_items": null,
            "align_self": null,
            "border": null,
            "bottom": null,
            "display": null,
            "flex": null,
            "flex_flow": null,
            "grid_area": null,
            "grid_auto_columns": null,
            "grid_auto_flow": null,
            "grid_auto_rows": null,
            "grid_column": null,
            "grid_gap": null,
            "grid_row": null,
            "grid_template_areas": null,
            "grid_template_columns": null,
            "grid_template_rows": null,
            "height": null,
            "justify_content": null,
            "justify_items": null,
            "left": null,
            "margin": null,
            "max_height": null,
            "max_width": null,
            "min_height": null,
            "min_width": null,
            "object_fit": null,
            "object_position": null,
            "order": null,
            "overflow": null,
            "overflow_x": null,
            "overflow_y": null,
            "padding": null,
            "right": null,
            "top": null,
            "visibility": null,
            "width": null
          }
        },
        "9822619ae6804aa18b2fe33725883fde": {
          "model_module": "@jupyter-widgets/controls",
          "model_name": "VBoxModel",
          "model_module_version": "1.5.0",
          "state": {
            "_dom_classes": [
              "widget-interact"
            ],
            "_model_module": "@jupyter-widgets/controls",
            "_model_module_version": "1.5.0",
            "_model_name": "VBoxModel",
            "_view_count": null,
            "_view_module": "@jupyter-widgets/controls",
            "_view_module_version": "1.5.0",
            "_view_name": "VBoxView",
            "box_style": "",
            "children": [
              "IPY_MODEL_7e3013f2a9144aaaa7f9f142658470ce",
              "IPY_MODEL_5e9916c067e74c58be6c8fd694006816",
              "IPY_MODEL_dd62db39670f4b7f99f3c6095e9e60ce",
              "IPY_MODEL_859639c6ab84413eb33268a9be93738a",
              "IPY_MODEL_cb182b37cc0345e799021c07976a6559"
            ],
            "layout": "IPY_MODEL_7875c9efe6444d0ea43c37cf796944b5"
          }
        },
        "7e3013f2a9144aaaa7f9f142658470ce": {
          "model_module": "@jupyter-widgets/controls",
          "model_name": "FloatSliderModel",
          "model_module_version": "1.5.0",
          "state": {
            "_dom_classes": [],
            "_model_module": "@jupyter-widgets/controls",
            "_model_module_version": "1.5.0",
            "_model_name": "FloatSliderModel",
            "_view_count": null,
            "_view_module": "@jupyter-widgets/controls",
            "_view_module_version": "1.5.0",
            "_view_name": "FloatSliderView",
            "continuous_update": true,
            "description": "t",
            "description_tooltip": null,
            "disabled": false,
            "layout": "IPY_MODEL_a4480394bcf7431cb01651d55b4cc8d6",
            "max": 10,
            "min": 0,
            "orientation": "horizontal",
            "readout": true,
            "readout_format": ".2f",
            "step": 1,
            "style": "IPY_MODEL_41781ab085844bc88e323e244859e684",
            "value": 0
          }
        },
        "5e9916c067e74c58be6c8fd694006816": {
          "model_module": "@jupyter-widgets/controls",
          "model_name": "FloatSliderModel",
          "model_module_version": "1.5.0",
          "state": {
            "_dom_classes": [],
            "_model_module": "@jupyter-widgets/controls",
            "_model_module_version": "1.5.0",
            "_model_name": "FloatSliderModel",
            "_view_count": null,
            "_view_module": "@jupyter-widgets/controls",
            "_view_module_version": "1.5.0",
            "_view_name": "FloatSliderView",
            "continuous_update": true,
            "description": "a",
            "description_tooltip": null,
            "disabled": false,
            "layout": "IPY_MODEL_69b54a4067bd49cb8f0ffdc2dcd4d094",
            "max": 10,
            "min": 1,
            "orientation": "horizontal",
            "readout": true,
            "readout_format": ".2f",
            "step": 1,
            "style": "IPY_MODEL_f69a276fc2f64ad0a427d801b284b2ad",
            "value": 1
          }
        },
        "dd62db39670f4b7f99f3c6095e9e60ce": {
          "model_module": "@jupyter-widgets/controls",
          "model_name": "FloatSliderModel",
          "model_module_version": "1.5.0",
          "state": {
            "_dom_classes": [],
            "_model_module": "@jupyter-widgets/controls",
            "_model_module_version": "1.5.0",
            "_model_name": "FloatSliderModel",
            "_view_count": null,
            "_view_module": "@jupyter-widgets/controls",
            "_view_module_version": "1.5.0",
            "_view_name": "FloatSliderView",
            "continuous_update": true,
            "description": "m",
            "description_tooltip": null,
            "disabled": false,
            "layout": "IPY_MODEL_29177b150f9a497fb2296de0f686eec2",
            "max": 10,
            "min": 1,
            "orientation": "horizontal",
            "readout": true,
            "readout_format": ".2f",
            "step": 0.1,
            "style": "IPY_MODEL_805106d0e29349abaa1152a453bc31bd",
            "value": 1
          }
        },
        "859639c6ab84413eb33268a9be93738a": {
          "model_module": "@jupyter-widgets/controls",
          "model_name": "FloatSliderModel",
          "model_module_version": "1.5.0",
          "state": {
            "_dom_classes": [],
            "_model_module": "@jupyter-widgets/controls",
            "_model_module_version": "1.5.0",
            "_model_name": "FloatSliderModel",
            "_view_count": null,
            "_view_module": "@jupyter-widgets/controls",
            "_view_module_version": "1.5.0",
            "_view_name": "FloatSliderView",
            "continuous_update": true,
            "description": "k",
            "description_tooltip": null,
            "disabled": false,
            "layout": "IPY_MODEL_3c8096423a434809956504f5dc057f7d",
            "max": 5,
            "min": 1,
            "orientation": "horizontal",
            "readout": true,
            "readout_format": ".2f",
            "step": 0.1,
            "style": "IPY_MODEL_0f8e2b2a680e4b009eabe558b8c9957a",
            "value": 1
          }
        },
        "cb182b37cc0345e799021c07976a6559": {
          "model_module": "@jupyter-widgets/output",
          "model_name": "OutputModel",
          "model_module_version": "1.0.0",
          "state": {
            "_dom_classes": [],
            "_model_module": "@jupyter-widgets/output",
            "_model_module_version": "1.0.0",
            "_model_name": "OutputModel",
            "_view_count": null,
            "_view_module": "@jupyter-widgets/output",
            "_view_module_version": "1.0.0",
            "_view_name": "OutputView",
            "layout": "IPY_MODEL_672c2994ddba4fe79cd77f547fb017d2",
            "msg_id": "",
            "outputs": [
              {
                "output_type": "display_data",
                "data": {
                  "text/plain": "<Figure size 432x288 with 1 Axes>",
                  "image/png": "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\n"
                },
                "metadata": {
                  "needs_background": "light"
                }
              },
              {
                "output_type": "display_data",
                "data": {
                  "text/plain": "<module 'matplotlib.pyplot' from '/usr/local/lib/python3.7/dist-packages/matplotlib/pyplot.py'>"
                },
                "metadata": {}
              }
            ]
          }
        },
        "7875c9efe6444d0ea43c37cf796944b5": {
          "model_module": "@jupyter-widgets/base",
          "model_name": "LayoutModel",
          "model_module_version": "1.2.0",
          "state": {
            "_model_module": "@jupyter-widgets/base",
            "_model_module_version": "1.2.0",
            "_model_name": "LayoutModel",
            "_view_count": null,
            "_view_module": "@jupyter-widgets/base",
            "_view_module_version": "1.2.0",
            "_view_name": "LayoutView",
            "align_content": null,
            "align_items": null,
            "align_self": null,
            "border": null,
            "bottom": null,
            "display": null,
            "flex": null,
            "flex_flow": null,
            "grid_area": null,
            "grid_auto_columns": null,
            "grid_auto_flow": null,
            "grid_auto_rows": null,
            "grid_column": null,
            "grid_gap": null,
            "grid_row": null,
            "grid_template_areas": null,
            "grid_template_columns": null,
            "grid_template_rows": null,
            "height": null,
            "justify_content": null,
            "justify_items": null,
            "left": null,
            "margin": null,
            "max_height": null,
            "max_width": null,
            "min_height": null,
            "min_width": null,
            "object_fit": null,
            "object_position": null,
            "order": null,
            "overflow": null,
            "overflow_x": null,
            "overflow_y": null,
            "padding": null,
            "right": null,
            "top": null,
            "visibility": null,
            "width": null
          }
        },
        "a4480394bcf7431cb01651d55b4cc8d6": {
          "model_module": "@jupyter-widgets/base",
          "model_name": "LayoutModel",
          "model_module_version": "1.2.0",
          "state": {
            "_model_module": "@jupyter-widgets/base",
            "_model_module_version": "1.2.0",
            "_model_name": "LayoutModel",
            "_view_count": null,
            "_view_module": "@jupyter-widgets/base",
            "_view_module_version": "1.2.0",
            "_view_name": "LayoutView",
            "align_content": null,
            "align_items": null,
            "align_self": null,
            "border": null,
            "bottom": null,
            "display": null,
            "flex": null,
            "flex_flow": null,
            "grid_area": null,
            "grid_auto_columns": null,
            "grid_auto_flow": null,
            "grid_auto_rows": null,
            "grid_column": null,
            "grid_gap": null,
            "grid_row": null,
            "grid_template_areas": null,
            "grid_template_columns": null,
            "grid_template_rows": null,
            "height": null,
            "justify_content": null,
            "justify_items": null,
            "left": null,
            "margin": null,
            "max_height": null,
            "max_width": null,
            "min_height": null,
            "min_width": null,
            "object_fit": null,
            "object_position": null,
            "order": null,
            "overflow": null,
            "overflow_x": null,
            "overflow_y": null,
            "padding": null,
            "right": null,
            "top": null,
            "visibility": null,
            "width": null
          }
        },
        "41781ab085844bc88e323e244859e684": {
          "model_module": "@jupyter-widgets/controls",
          "model_name": "SliderStyleModel",
          "model_module_version": "1.5.0",
          "state": {
            "_model_module": "@jupyter-widgets/controls",
            "_model_module_version": "1.5.0",
            "_model_name": "SliderStyleModel",
            "_view_count": null,
            "_view_module": "@jupyter-widgets/base",
            "_view_module_version": "1.2.0",
            "_view_name": "StyleView",
            "description_width": "",
            "handle_color": null
          }
        },
        "69b54a4067bd49cb8f0ffdc2dcd4d094": {
          "model_module": "@jupyter-widgets/base",
          "model_name": "LayoutModel",
          "model_module_version": "1.2.0",
          "state": {
            "_model_module": "@jupyter-widgets/base",
            "_model_module_version": "1.2.0",
            "_model_name": "LayoutModel",
            "_view_count": null,
            "_view_module": "@jupyter-widgets/base",
            "_view_module_version": "1.2.0",
            "_view_name": "LayoutView",
            "align_content": null,
            "align_items": null,
            "align_self": null,
            "border": null,
            "bottom": null,
            "display": null,
            "flex": null,
            "flex_flow": null,
            "grid_area": null,
            "grid_auto_columns": null,
            "grid_auto_flow": null,
            "grid_auto_rows": null,
            "grid_column": null,
            "grid_gap": null,
            "grid_row": null,
            "grid_template_areas": null,
            "grid_template_columns": null,
            "grid_template_rows": null,
            "height": null,
            "justify_content": null,
            "justify_items": null,
            "left": null,
            "margin": null,
            "max_height": null,
            "max_width": null,
            "min_height": null,
            "min_width": null,
            "object_fit": null,
            "object_position": null,
            "order": null,
            "overflow": null,
            "overflow_x": null,
            "overflow_y": null,
            "padding": null,
            "right": null,
            "top": null,
            "visibility": null,
            "width": null
          }
        },
        "f69a276fc2f64ad0a427d801b284b2ad": {
          "model_module": "@jupyter-widgets/controls",
          "model_name": "SliderStyleModel",
          "model_module_version": "1.5.0",
          "state": {
            "_model_module": "@jupyter-widgets/controls",
            "_model_module_version": "1.5.0",
            "_model_name": "SliderStyleModel",
            "_view_count": null,
            "_view_module": "@jupyter-widgets/base",
            "_view_module_version": "1.2.0",
            "_view_name": "StyleView",
            "description_width": "",
            "handle_color": null
          }
        },
        "29177b150f9a497fb2296de0f686eec2": {
          "model_module": "@jupyter-widgets/base",
          "model_name": "LayoutModel",
          "model_module_version": "1.2.0",
          "state": {
            "_model_module": "@jupyter-widgets/base",
            "_model_module_version": "1.2.0",
            "_model_name": "LayoutModel",
            "_view_count": null,
            "_view_module": "@jupyter-widgets/base",
            "_view_module_version": "1.2.0",
            "_view_name": "LayoutView",
            "align_content": null,
            "align_items": null,
            "align_self": null,
            "border": null,
            "bottom": null,
            "display": null,
            "flex": null,
            "flex_flow": null,
            "grid_area": null,
            "grid_auto_columns": null,
            "grid_auto_flow": null,
            "grid_auto_rows": null,
            "grid_column": null,
            "grid_gap": null,
            "grid_row": null,
            "grid_template_areas": null,
            "grid_template_columns": null,
            "grid_template_rows": null,
            "height": null,
            "justify_content": null,
            "justify_items": null,
            "left": null,
            "margin": null,
            "max_height": null,
            "max_width": null,
            "min_height": null,
            "min_width": null,
            "object_fit": null,
            "object_position": null,
            "order": null,
            "overflow": null,
            "overflow_x": null,
            "overflow_y": null,
            "padding": null,
            "right": null,
            "top": null,
            "visibility": null,
            "width": null
          }
        },
        "805106d0e29349abaa1152a453bc31bd": {
          "model_module": "@jupyter-widgets/controls",
          "model_name": "SliderStyleModel",
          "model_module_version": "1.5.0",
          "state": {
            "_model_module": "@jupyter-widgets/controls",
            "_model_module_version": "1.5.0",
            "_model_name": "SliderStyleModel",
            "_view_count": null,
            "_view_module": "@jupyter-widgets/base",
            "_view_module_version": "1.2.0",
            "_view_name": "StyleView",
            "description_width": "",
            "handle_color": null
          }
        },
        "3c8096423a434809956504f5dc057f7d": {
          "model_module": "@jupyter-widgets/base",
          "model_name": "LayoutModel",
          "model_module_version": "1.2.0",
          "state": {
            "_model_module": "@jupyter-widgets/base",
            "_model_module_version": "1.2.0",
            "_model_name": "LayoutModel",
            "_view_count": null,
            "_view_module": "@jupyter-widgets/base",
            "_view_module_version": "1.2.0",
            "_view_name": "LayoutView",
            "align_content": null,
            "align_items": null,
            "align_self": null,
            "border": null,
            "bottom": null,
            "display": null,
            "flex": null,
            "flex_flow": null,
            "grid_area": null,
            "grid_auto_columns": null,
            "grid_auto_flow": null,
            "grid_auto_rows": null,
            "grid_column": null,
            "grid_gap": null,
            "grid_row": null,
            "grid_template_areas": null,
            "grid_template_columns": null,
            "grid_template_rows": null,
            "height": null,
            "justify_content": null,
            "justify_items": null,
            "left": null,
            "margin": null,
            "max_height": null,
            "max_width": null,
            "min_height": null,
            "min_width": null,
            "object_fit": null,
            "object_position": null,
            "order": null,
            "overflow": null,
            "overflow_x": null,
            "overflow_y": null,
            "padding": null,
            "right": null,
            "top": null,
            "visibility": null,
            "width": null
          }
        },
        "0f8e2b2a680e4b009eabe558b8c9957a": {
          "model_module": "@jupyter-widgets/controls",
          "model_name": "SliderStyleModel",
          "model_module_version": "1.5.0",
          "state": {
            "_model_module": "@jupyter-widgets/controls",
            "_model_module_version": "1.5.0",
            "_model_name": "SliderStyleModel",
            "_view_count": null,
            "_view_module": "@jupyter-widgets/base",
            "_view_module_version": "1.2.0",
            "_view_name": "StyleView",
            "description_width": "",
            "handle_color": null
          }
        },
        "672c2994ddba4fe79cd77f547fb017d2": {
          "model_module": "@jupyter-widgets/base",
          "model_name": "LayoutModel",
          "model_module_version": "1.2.0",
          "state": {
            "_model_module": "@jupyter-widgets/base",
            "_model_module_version": "1.2.0",
            "_model_name": "LayoutModel",
            "_view_count": null,
            "_view_module": "@jupyter-widgets/base",
            "_view_module_version": "1.2.0",
            "_view_name": "LayoutView",
            "align_content": null,
            "align_items": null,
            "align_self": null,
            "border": null,
            "bottom": null,
            "display": null,
            "flex": null,
            "flex_flow": null,
            "grid_area": null,
            "grid_auto_columns": null,
            "grid_auto_flow": null,
            "grid_auto_rows": null,
            "grid_column": null,
            "grid_gap": null,
            "grid_row": null,
            "grid_template_areas": null,
            "grid_template_columns": null,
            "grid_template_rows": null,
            "height": null,
            "justify_content": null,
            "justify_items": null,
            "left": null,
            "margin": null,
            "max_height": null,
            "max_width": null,
            "min_height": null,
            "min_width": null,
            "object_fit": null,
            "object_position": null,
            "order": null,
            "overflow": null,
            "overflow_x": null,
            "overflow_y": null,
            "padding": null,
            "right": null,
            "top": null,
            "visibility": null,
            "width": null
          }
        }
      }
    }
  },
  "cells": [
    {
      "cell_type": "code",
      "execution_count": null,
      "metadata": {
        "id": "5BKWN5Pys11S"
      },
      "outputs": [],
      "source": [
        "import numpy as np\n",
        "import math\n",
        "import matplotlib.pyplot as plt\n",
        "from ipywidgets import interact, FloatSlider, widgets\n",
        "import cmath"
      ]
    },
    {
      "cell_type": "code",
      "source": [
        "h = 1\n",
        "abs(complex(0, 1))"
      ],
      "metadata": {
        "colab": {
          "base_uri": "https://localhost:8080/"
        },
        "id": "7t53uzGRtcVs",
        "outputId": "fe6cec5d-e27b-4fd7-c12c-e3199a15a1ff"
      },
      "execution_count": null,
      "outputs": [
        {
          "output_type": "execute_result",
          "data": {
            "text/plain": [
              "1.0"
            ]
          },
          "metadata": {},
          "execution_count": 2
        }
      ]
    },
    {
      "cell_type": "code",
      "source": [
        "def funcR(x, t, a, m, k):\n",
        "  A = math.sqrt(2 / a * math.sqrt(2 * math.pi))\n",
        "  return (A * a * math.sqrt(m) / (a**2 * m + 2 * complex(0, 1) * h * t)**(1/2) * math.exp(-k**2 * a**2 / 4) * cmath.exp((k * a**2 + 2 * complex(0,1) * x)**2 * m / (4 * (a**2 * m + 2 * complex(0,1) * h * t)))).real\n"
      ],
      "metadata": {
        "id": "muBDjD11takO"
      },
      "execution_count": null,
      "outputs": []
    },
    {
      "cell_type": "code",
      "source": [
        "def funcI(x, t, a, m, k):\n",
        "    A = math.sqrt(2 / a * math.sqrt(2 * math.pi))\n",
        "    return (A * a * math.sqrt(m) / (a**2 * m + 2 * complex(0, 1) * h * t)**(1/2) * math.exp(-k**2 * a**2 / 4) * cmath.exp((k * a**2 + 2 * complex(0,1) * x)**2 * m / (4 * (a**2 * m + 2 * complex(0,1) * h * t)))).imag\n"
      ],
      "metadata": {
        "id": "X5_K7k_K0fkb"
      },
      "execution_count": null,
      "outputs": []
    },
    {
      "cell_type": "code",
      "source": [
        "def fR(x, a, m, k):\n",
        "    A = math.sqrt(2 / a * math.sqrt(2 * math.pi))\n",
        "    return (A * cmath.exp(-x**2 / a**2 + complex(0, 1) * k * x)).real"
      ],
      "metadata": {
        "id": "P3Jum15V5Va-"
      },
      "execution_count": null,
      "outputs": []
    },
    {
      "cell_type": "code",
      "source": [
        "def fI(x, a, m, k):\n",
        "    A = math.sqrt(2 / a * math.sqrt(2 * math.pi))\n",
        "    return (A * cmath.exp(-x**2 / a**2 + complex(0, 1) * k * x)).imag"
      ],
      "metadata": {
        "id": "4lVzrGI05oOV"
      },
      "execution_count": null,
      "outputs": []
    },
    {
      "cell_type": "code",
      "source": [
        "def p(x, t, a, m, k):\n",
        "  A = math.sqrt(2 / a * math.sqrt(2 * math.pi))\n",
        "  return (abs((A * a * math.sqrt(m) / (a**2 * m + 2 * complex(0, 1) * h * t)**(1/2) * math.exp(-k**2 * a**2 / 4) * cmath.exp((k * a**2 + 2 * complex(0,1) * x)**2 * m / (4 * (a**2 * m + 2 * complex(0,1) * h * t)))))**2).real"
      ],
      "metadata": {
        "id": "kkANfkgh7U6R"
      },
      "execution_count": null,
      "outputs": []
    },
    {
      "cell_type": "code",
      "source": [
        "def get_plt(t, a, m, k):\n",
        "  x_data_old = [fR(x, a, m, k) for x in np.linspace(-a, a, 10000)]\n",
        "  y_data_old = [fI(x, a, m, k) for x in np.linspace(-a, a, 10000)]\n",
        "\n",
        "  x_data = [funcR(x, t, a, m, k) for x in np.linspace(-a, a, 10000)]\n",
        "  y_data = [funcI(x, t, a, m, k) for x in np.linspace(-a, a, 10000)]\n",
        "\n",
        "  fig = plt.subplots()\n",
        "  plt.scatter(x_data, y_data)\n",
        "  plt.scatter(x_data_old, y_data_old, color = 'green')\n",
        "  plt.ylabel(\"IMG\")\n",
        "  plt.xlabel(\"RE\")\n",
        "  return plt"
      ],
      "metadata": {
        "id": "3N7afk6nvTz8"
      },
      "execution_count": null,
      "outputs": []
    },
    {
      "cell_type": "code",
      "source": [
        "interact(\n",
        "    get_plt,\n",
        "    t = FloatSlider(min = 0, max = 2, step = 0.05),\n",
        "    a = FloatSlider(min = 1, max = 10, step = 0.1),\n",
        "    m = FloatSlider(min = 1, max = 10, step = 0.1),\n",
        "    k = FloatSlider(min = 1, max = 5, step = 0.1)\n",
        "  )"
      ],
      "metadata": {
        "colab": {
          "base_uri": "https://localhost:8080/",
          "height": 442,
          "referenced_widgets": [
            "745132d138bc412e9067b1e5a896fe0a",
            "aadddbe08f0d44d086b2195aa88de329",
            "43e09583e7ed4611b3b44a2a6975ec32",
            "dcff15baf4424d9795da3c765d09ca87",
            "0487c71317c24fe6aa5e1fc3c6b781f3",
            "31e423fcd7014ffc8fa62b3846afb40a",
            "1b0cc25075044877a1d3739b85abe8de",
            "65d3a5773695440a9ff91dd82669fad5",
            "8c7b8a02719b477b9292675732e038e1",
            "0edce983ec824e20adbdfd35825d38c9",
            "93856ff970d44c3ab26a1bee19696d0a",
            "b49c0266d7664279a8e07abba939516c",
            "3e82a811976b47f2be36f8093f8eca9e",
            "8ea188916ad34357be37bff5729709eb",
            "d421d244c7c5460888789c56974e92ce",
            "2ea7d67ed2004563b78317e1b0a55003"
          ]
        },
        "id": "03KHNYVdy_Zc",
        "outputId": "ed63b6fc-6697-4518-c09d-b2aa5307ccaa"
      },
      "execution_count": null,
      "outputs": [
        {
          "output_type": "display_data",
          "data": {
            "text/plain": [
              "interactive(children=(FloatSlider(value=0.0, description='t', max=2.0, step=0.05), FloatSlider(value=1.0, desc…"
            ],
            "application/vnd.jupyter.widget-view+json": {
              "version_major": 2,
              "version_minor": 0,
              "model_id": "745132d138bc412e9067b1e5a896fe0a"
            }
          },
          "metadata": {}
        },
        {
          "output_type": "execute_result",
          "data": {
            "text/plain": [
              "<function __main__.get_plt>"
            ]
          },
          "metadata": {},
          "execution_count": 9
        }
      ]
    },
    {
      "cell_type": "markdown",
      "source": [
        ""
      ],
      "metadata": {
        "id": "FZbzs_NdtZ70"
      }
    },
    {
      "cell_type": "code",
      "source": [
        "def get_plt2(t, a, m, k):\n",
        "\n",
        "  x_data = [funcR(x, t, a, m, k) for x in np.linspace(-a, a, 10000)]\n",
        "  y_data = [funcI(x, t, a, m, k) for x in np.linspace(-a, a, 10000)]\n",
        "\n",
        "  fig = plt.subplots()\n",
        "  plt.scatter(x_data, y_data)\n",
        "  plt.ylabel(\"IMG\")\n",
        "  plt.xlabel(\"RE\")\n",
        "  return plt"
      ],
      "metadata": {
        "id": "93yPsAFV5s5J"
      },
      "execution_count": null,
      "outputs": []
    },
    {
      "cell_type": "code",
      "source": [
        "interact(\n",
        "    get_plt2,\n",
        "    t = FloatSlider(min = 0, max = 10, step = 1),\n",
        "    a = FloatSlider(min = 1, max = 10, step = 0.1),\n",
        "    m = FloatSlider(min = 1, max = 10, step = 0.1),\n",
        "    k = FloatSlider(min = 1, max = 5, step = 0.1)\n",
        "  )"
      ],
      "metadata": {
        "colab": {
          "base_uri": "https://localhost:8080/",
          "height": 442,
          "referenced_widgets": [
            "e26cdf8e78504fe6aa4ada7565d0d984",
            "4a2b906c5e5b43578483b20bcc213691",
            "806e8f86c90b4a3c97f0f553355f2be8",
            "b2db56fe358b4078accf64cb9deae582",
            "9d9b89ec474a4c4eb030a041659c13fb",
            "0b0cddd7aeb04ac69fd427e0a2f7a674",
            "ef0b87196de44ffe8e14e6be925c8584",
            "3c498f3392364e0e80f0e6b0c894f99a",
            "5982d3a07e5e4f1bb9f11a173931c674",
            "c5032a0cf6bc413f8d0cc8aeb97471f6",
            "bde0ca5241504d5ab4f3ec1bff5dc30f",
            "0d1eb5e667dc4bcd8859facf64504142",
            "dc5e480c0cd64d1c8ca7db7d14f1894e",
            "604275e2ae724b0eb556ea053f8a7636",
            "96945642c63a43f6a03f51f7ef7a26a8",
            "3ac19132b8134b499e123f3bc07f2726"
          ]
        },
        "id": "_roZRNaG52_a",
        "outputId": "222ee21d-da36-463d-91ba-4c0e4a30f0ba"
      },
      "execution_count": null,
      "outputs": [
        {
          "output_type": "display_data",
          "data": {
            "text/plain": [
              "interactive(children=(FloatSlider(value=0.0, description='t', max=10.0, step=1.0), FloatSlider(value=1.0, desc…"
            ],
            "application/vnd.jupyter.widget-view+json": {
              "version_major": 2,
              "version_minor": 0,
              "model_id": "e26cdf8e78504fe6aa4ada7565d0d984"
            }
          },
          "metadata": {}
        },
        {
          "output_type": "execute_result",
          "data": {
            "text/plain": [
              "<function __main__.get_plt2>"
            ]
          },
          "metadata": {},
          "execution_count": 11
        }
      ]
    },
    {
      "cell_type": "code",
      "source": [
        "def get_plt3(t, a, m, k):\n",
        "\n",
        "  x_data = np.linspace(-5 * a, 15 * a, 10000)\n",
        "  y_data = [p(x, t, a, m, k) for x in np.linspace(-5 * a, 15 * a, 10000)]\n",
        "\n",
        "  fig = plt.subplots()\n",
        "  plt.scatter(x_data, y_data)\n",
        "\n",
        "  return plt"
      ],
      "metadata": {
        "id": "XvxSovZL7rli"
      },
      "execution_count": null,
      "outputs": []
    },
    {
      "cell_type": "code",
      "source": [
        "interact(\n",
        "    get_plt3,\n",
        "    t = FloatSlider(min = 0, max = 10, step = 1),\n",
        "    a = FloatSlider(min = 1, max = 10, step = 1),\n",
        "    m = FloatSlider(min = 1, max = 10, step = 0.1),\n",
        "    k = FloatSlider(min = 1, max = 5, step = 0.1)\n",
        "  )"
      ],
      "metadata": {
        "colab": {
          "base_uri": "https://localhost:8080/",
          "height": 428,
          "referenced_widgets": [
            "9822619ae6804aa18b2fe33725883fde",
            "7e3013f2a9144aaaa7f9f142658470ce",
            "5e9916c067e74c58be6c8fd694006816",
            "dd62db39670f4b7f99f3c6095e9e60ce",
            "859639c6ab84413eb33268a9be93738a",
            "cb182b37cc0345e799021c07976a6559",
            "7875c9efe6444d0ea43c37cf796944b5",
            "a4480394bcf7431cb01651d55b4cc8d6",
            "41781ab085844bc88e323e244859e684",
            "69b54a4067bd49cb8f0ffdc2dcd4d094",
            "f69a276fc2f64ad0a427d801b284b2ad",
            "29177b150f9a497fb2296de0f686eec2",
            "805106d0e29349abaa1152a453bc31bd",
            "3c8096423a434809956504f5dc057f7d",
            "0f8e2b2a680e4b009eabe558b8c9957a",
            "672c2994ddba4fe79cd77f547fb017d2"
          ]
        },
        "id": "HIi2iwxG71j3",
        "outputId": "418071c3-6ad3-47db-f070-7727fcfd9f68"
      },
      "execution_count": null,
      "outputs": [
        {
          "output_type": "display_data",
          "data": {
            "text/plain": [
              "interactive(children=(FloatSlider(value=0.0, description='t', max=10.0, step=1.0), FloatSlider(value=1.0, desc…"
            ],
            "application/vnd.jupyter.widget-view+json": {
              "version_major": 2,
              "version_minor": 0,
              "model_id": "9822619ae6804aa18b2fe33725883fde"
            }
          },
          "metadata": {}
        },
        {
          "output_type": "execute_result",
          "data": {
            "text/plain": [
              "<function __main__.get_plt3>"
            ]
          },
          "metadata": {},
          "execution_count": 13
        }
      ]
    }
  ]
}