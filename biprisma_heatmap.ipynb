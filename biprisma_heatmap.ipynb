{
  "nbformat": 4,
  "nbformat_minor": 0,
  "metadata": {
    "colab": {
      "name": "biprisma_heatmap.ipynb",
      "provenance": [],
      "collapsed_sections": [],
      "include_colab_link": true
    },
    "kernelspec": {
      "name": "python3",
      "display_name": "Python 3"
    },
    "language_info": {
      "name": "python"
    }
  },
  "cells": [
    {
      "cell_type": "markdown",
      "metadata": {
        "id": "view-in-github",
        "colab_type": "text"
      },
      "source": [
        "<a href=\"https://colab.research.google.com/github/AndrewKorn/physics_nsu/blob/main/biprisma_heatmap.ipynb\" target=\"_parent\"><img src=\"https://colab.research.google.com/assets/colab-badge.svg\" alt=\"Open In Colab\"/></a>"
      ]
    },
    {
      "cell_type": "code",
      "execution_count": null,
      "metadata": {
        "id": "42UKDLZDfIGZ"
      },
      "outputs": [],
      "source": [
        "import numpy as np\n",
        "from math import cos, sin, pi, tan, atan\n",
        "import matplotlib.pyplot as plt\n",
        "import seaborn as sns\n",
        "from ipywidgets import interact, FloatSlider, widgets\n",
        "import matplotlib.cm as cm\n",
        "from scipy.ndimage.filters import gaussian_filter\n",
        "from scipy.spatial import cKDTree"
      ]
    },
    {
      "cell_type": "code",
      "source": [
        "def cot(x):\n",
        "  return cos(x) / sin(x)"
      ],
      "metadata": {
        "id": "A5yGJVtDsiq3"
      },
      "execution_count": null,
      "outputs": []
    },
    {
      "cell_type": "code",
      "source": [
        "a = 1000      # Расстрояние от источника до бипризмы\n",
        "lens_h = a   # Высота половины бипризмы\n",
        "\n",
        "fi = 0.001 # Угол отклонения\n",
        "\n",
        "a, fi\n"
      ],
      "metadata": {
        "colab": {
          "base_uri": "https://localhost:8080/"
        },
        "id": "98KG_od6jzxy",
        "outputId": "96f109f5-e0de-43ef-da3a-faf2b7d0ce52"
      },
      "execution_count": null,
      "outputs": [
        {
          "output_type": "execute_result",
          "data": {
            "text/plain": [
              "(1000, 0.001)"
            ]
          },
          "metadata": {},
          "execution_count": 3
        }
      ]
    },
    {
      "cell_type": "code",
      "source": [
        "\"\"\"\n",
        "  betta - угол наклона относительно оси Ox\n",
        "\"\"\"\n",
        "def get_line(betta, fi_angle):\n",
        "  x_inter_biprisma = a\n",
        "  y_inter_biprisma = a * tan(betta)\n",
        "  \n",
        "  line_angle = betta - fi_angle + pi\n",
        "\n",
        "  return x_inter_biprisma, y_inter_biprisma, line_angle"
      ],
      "metadata": {
        "id": "vW_d4hEUjT3x"
      },
      "execution_count": null,
      "outputs": []
    },
    {
      "cell_type": "code",
      "source": [
        "\"\"\"\n",
        "x_1 + k * cos(angle_1) = x_2 + m * cos(angle_2)\n",
        "y_1 + k * sin(angle_1) = y_2 + m * sin(angle_2)\n",
        "\"\"\"\n",
        "\n",
        "def get_lines_inter(x_1, y_1, angle_1, x_2, y_2, angle_2):\n",
        "  k = ((x_2 - x_1) + (y_1 - y_2) * cot(angle_2)) / ((1 - tan(angle_1) * cot(angle_2)) * cos(angle_1))\n",
        "\n",
        "  return x_1 + k * cos(angle_1), y_1 + k * sin(angle_1)\n",
        "\n",
        "# Test\n",
        "get_lines_inter(1, 1, pi/4, 5, 2, pi * 3/4)"
      ],
      "metadata": {
        "colab": {
          "base_uri": "https://localhost:8080/"
        },
        "id": "Z21LNL3FmFrL",
        "outputId": "ed9bd829-905c-4a47-dd5e-276401cc66ec"
      },
      "execution_count": null,
      "outputs": [
        {
          "output_type": "execute_result",
          "data": {
            "text/plain": [
              "(3.5000000000000004, 3.5)"
            ]
          },
          "metadata": {},
          "execution_count": 5
        }
      ]
    },
    {
      "cell_type": "code",
      "source": [
        "angle_k = 1\n",
        "angle_min = -atan(lens_h / a) / angle_k\n",
        "angle_max = atan(lens_h / a) / angle_k\n",
        "angles_count = 1000\n",
        "\n",
        "str(angle_min / pi) + \" pi\", str(angle_max / pi) + \" pi\", angles_count"
      ],
      "metadata": {
        "id": "k3-q_jbUu2Qq",
        "colab": {
          "base_uri": "https://localhost:8080/"
        },
        "outputId": "1e21cb3f-deda-48ac-f605-31ea06b7e296"
      },
      "execution_count": null,
      "outputs": [
        {
          "output_type": "execute_result",
          "data": {
            "text/plain": [
              "('-0.25 pi', '0.25 pi', 1000)"
            ]
          },
          "metadata": {},
          "execution_count": 6
        }
      ]
    },
    {
      "cell_type": "code",
      "source": [
        "angles_top = np.linspace(0, angle_max, angles_count)\n",
        "angles_top[:10], angles_top[-10:]"
      ],
      "metadata": {
        "colab": {
          "base_uri": "https://localhost:8080/"
        },
        "id": "ECMLj4bD2Mxo",
        "outputId": "78c527f9-8230-4bcd-f9ec-35dbb5dde122"
      },
      "execution_count": null,
      "outputs": [
        {
          "output_type": "execute_result",
          "data": {
            "text/plain": [
              "(array([0.        , 0.00078618, 0.00157237, 0.00235855, 0.00314474,\n",
              "        0.00393092, 0.00471711, 0.00550329, 0.00628947, 0.00707566]),\n",
              " array([0.7783225 , 0.77910869, 0.77989487, 0.78068106, 0.78146724,\n",
              "        0.78225343, 0.78303961, 0.78382579, 0.78461198, 0.78539816]))"
            ]
          },
          "metadata": {},
          "execution_count": 7
        }
      ]
    },
    {
      "cell_type": "code",
      "source": [
        "angles_bot = np.linspace(angle_min, 0, angles_count)\n",
        "angles_bot[:10], angles_bot[-10:]"
      ],
      "metadata": {
        "colab": {
          "base_uri": "https://localhost:8080/"
        },
        "id": "-tZxSG4IZOOC",
        "outputId": "fceb0f1d-e56a-40ad-e23a-ebde8ffd092d"
      },
      "execution_count": null,
      "outputs": [
        {
          "output_type": "execute_result",
          "data": {
            "text/plain": [
              "(array([-0.78539816, -0.78461198, -0.78382579, -0.78303961, -0.78225343,\n",
              "        -0.78146724, -0.78068106, -0.77989487, -0.77910869, -0.7783225 ]),\n",
              " array([-0.00707566, -0.00628947, -0.00550329, -0.00471711, -0.00393092,\n",
              "        -0.00314474, -0.00235855, -0.00157237, -0.00078618,  0.        ]))"
            ]
          },
          "metadata": {},
          "execution_count": 8
        }
      ]
    },
    {
      "cell_type": "code",
      "source": [
        "angles = np.linspace(angle_min, angle_max, angles_count)\n",
        "angles[:10], angles[-10:]"
      ],
      "metadata": {
        "colab": {
          "base_uri": "https://localhost:8080/"
        },
        "id": "RyTYs9JMeTmz",
        "outputId": "60667bb1-9a95-43f1-ea81-1541eb286d36"
      },
      "execution_count": null,
      "outputs": [
        {
          "output_type": "execute_result",
          "data": {
            "text/plain": [
              "(array([-0.78539816, -0.78382579, -0.78225343, -0.78068106, -0.77910869,\n",
              "        -0.77753632, -0.77596395, -0.77439158, -0.77281921, -0.77124685]),\n",
              " array([0.77124685, 0.77281921, 0.77439158, 0.77596395, 0.77753632,\n",
              "        0.77910869, 0.78068106, 0.78225343, 0.78382579, 0.78539816]))"
            ]
          },
          "metadata": {},
          "execution_count": 9
        }
      ]
    },
    {
      "cell_type": "code",
      "source": [
        "\n",
        "lines_top = np.array([get_line(angle, fi) for angle in angles_top])\n",
        "lines_bot = np.array([get_line(angle, -fi) for angle in angles_bot])\n",
        "lines_top[:10], lines_bot[:10]"
      ],
      "metadata": {
        "colab": {
          "base_uri": "https://localhost:8080/"
        },
        "id": "tK2Sy_OI3HP9",
        "outputId": "a248f7bf-361c-466d-c48e-30b857048ab2"
      },
      "execution_count": null,
      "outputs": [
        {
          "output_type": "execute_result",
          "data": {
            "text/plain": [
              "(array([[1.00000000e+03, 0.00000000e+00, 3.14059265e+00],\n",
              "        [1.00000000e+03, 7.86184510e-01, 3.14137884e+00],\n",
              "        [1.00000000e+03, 1.57236999e+00, 3.14216502e+00],\n",
              "        [1.00000000e+03, 2.35855742e+00, 3.14295121e+00],\n",
              "        [1.00000000e+03, 3.14474776e+00, 3.14373739e+00],\n",
              "        [1.00000000e+03, 3.93094199e+00, 3.14452358e+00],\n",
              "        [1.00000000e+03, 4.71714107e+00, 3.14530976e+00],\n",
              "        [1.00000000e+03, 5.50334599e+00, 3.14609594e+00],\n",
              "        [1.00000000e+03, 6.28955772e+00, 3.14688213e+00],\n",
              "        [1.00000000e+03, 7.07577721e+00, 3.14766831e+00]]),\n",
              " array([[ 1000.        , -1000.        ,     2.35719449],\n",
              "        [ 1000.        ,  -998.42886618,     2.35798067],\n",
              "        [ 1000.        ,  -996.86019695,     2.35876686],\n",
              "        [ 1000.        ,  -995.29398457,     2.35955304],\n",
              "        [ 1000.        ,  -993.73022136,     2.36033923],\n",
              "        [ 1000.        ,  -992.16889963,     2.36112541],\n",
              "        [ 1000.        ,  -990.61001175,     2.3619116 ],\n",
              "        [ 1000.        ,  -989.05355012,     2.36269778],\n",
              "        [ 1000.        ,  -987.49950714,     2.36348396],\n",
              "        [ 1000.        ,  -985.94787528,     2.36427015]]))"
            ]
          },
          "metadata": {},
          "execution_count": 10
        }
      ]
    },
    {
      "cell_type": "code",
      "source": [
        "\n",
        "lines_count = angles_count\n",
        "coords_list = []\n",
        "\n",
        "for i in range(0, lines_count):\n",
        "  for j in range(i+1, lines_count):\n",
        "    coords_list.append(get_lines_inter(\n",
        "        lines_bot[i][0],\n",
        "        lines_bot[i][1],\n",
        "        lines_bot[i][2],\n",
        "        lines_bot[j][0],\n",
        "        lines_bot[j][1],\n",
        "        lines_bot[j][2],\n",
        "    ))\n",
        "    coords_list.append(get_lines_inter(\n",
        "        lines_top[i][0],\n",
        "        lines_top[i][1],\n",
        "        lines_top[i][2],\n",
        "        lines_top[j][0],\n",
        "        lines_top[j][1],\n",
        "        lines_top[j][2],\n",
        "    ))\n",
        "\n",
        "coords = np.array(coords_list)\n",
        "\n",
        "coords_x, coords_y = np.hsplit(coords, 2)"
      ],
      "metadata": {
        "id": "QV3MslBS3hb2"
      },
      "execution_count": null,
      "outputs": []
    },
    {
      "cell_type": "code",
      "source": [
        "coords_x = coords_x.flatten()\n",
        "coords_y = coords_y.flatten()\n",
        "\n",
        "coords_x.min(), coords_x.max(), coords_y.min(), coords_y.max()"
      ],
      "metadata": {
        "colab": {
          "base_uri": "https://localhost:8080/"
        },
        "id": "4Nu4BNhVlwQs",
        "outputId": "db1025a3-8977-4532-a51e-1fee9654ae1a"
      },
      "execution_count": null,
      "outputs": [
        {
          "output_type": "execute_result",
          "data": {
            "text/plain": [
              "(-1.9984259626953644,\n",
              " 0.0002138157459512513,\n",
              " -1.0009993329999816,\n",
              " 1.0009993330001454)"
            ]
          },
          "metadata": {},
          "execution_count": 12
        }
      ]
    },
    {
      "cell_type": "code",
      "source": [
        "shift = max(coords_y.max() - coords_y.min(), coords_x.max() - coords_x.min())\n",
        "\n",
        "x_min = coords_x.min() # Левая граница наблюдения\n",
        "x_max = coords_x.min() + shift  # Правая граница наблюдения\n",
        "\n",
        "y_min = coords_y.min()  # Нижняя граница наблюдения\n",
        "y_max = coords_y.min() + shift  # Верхняя граница наблюдения\n",
        "\n",
        "x_min, x_max, y_min, y_max"
      ],
      "metadata": {
        "colab": {
          "base_uri": "https://localhost:8080/"
        },
        "id": "f-fbOfeqgGXS",
        "outputId": "5782b0db-b4bc-4e2a-dba3-2859bf55eb08"
      },
      "execution_count": null,
      "outputs": [
        {
          "output_type": "execute_result",
          "data": {
            "text/plain": [
              "(-1.9984259626953644,\n",
              " 0.003572703304762559,\n",
              " -1.0009993329999816,\n",
              " 1.0009993330001454)"
            ]
          },
          "metadata": {},
          "execution_count": 13
        }
      ]
    },
    {
      "cell_type": "code",
      "source": [
        "x_range = (x_max - x_min)\n",
        "y_range = (y_max - y_min)\n",
        "\n",
        "x_range, y_range"
      ],
      "metadata": {
        "colab": {
          "base_uri": "https://localhost:8080/"
        },
        "id": "TJDAqWMbg25G",
        "outputId": "0ec7bd7f-8191-42ec-f6e3-a03af14d5cd1"
      },
      "execution_count": null,
      "outputs": [
        {
          "output_type": "execute_result",
          "data": {
            "text/plain": [
              "(2.001998666000127, 2.001998666000127)"
            ]
          },
          "metadata": {},
          "execution_count": 14
        }
      ]
    },
    {
      "cell_type": "code",
      "source": [
        "\n",
        "x_delta = 100 # Количество столбцов\n",
        "y_delta = 100 # Количество строк\n",
        "\n",
        "x_linspace = np.linspace(x_min, x_max, x_delta)\n",
        "y_linspace = np.linspace(y_min, y_max, y_delta)"
      ],
      "metadata": {
        "id": "jUnqz84shoGi"
      },
      "execution_count": null,
      "outputs": []
    },
    {
      "cell_type": "code",
      "source": [
        "x_left = min(0, x_min)\n",
        "x_right = max(0, x_max)\n",
        "\n",
        "x_left, x_right"
      ],
      "metadata": {
        "colab": {
          "base_uri": "https://localhost:8080/"
        },
        "id": "_-RFDxUAnIND",
        "outputId": "b3ec28d3-2f69-4895-8a80-3573ab658841"
      },
      "execution_count": null,
      "outputs": [
        {
          "output_type": "execute_result",
          "data": {
            "text/plain": [
              "(-1.9984259626953644, 0.003572703304762559)"
            ]
          },
          "metadata": {},
          "execution_count": 16
        }
      ]
    },
    {
      "cell_type": "code",
      "source": [
        "y_left = min(0, y_min)\n",
        "y_right = max(0, y_max)\n",
        "\n",
        "y_left, y_right"
      ],
      "metadata": {
        "colab": {
          "base_uri": "https://localhost:8080/"
        },
        "id": "rL16ZtQMnLQS",
        "outputId": "210d849b-bde5-480b-e073-d7723e2cba4e"
      },
      "execution_count": null,
      "outputs": [
        {
          "output_type": "execute_result",
          "data": {
            "text/plain": [
              "(-1.0009993329999816, 1.0009993330001454)"
            ]
          },
          "metadata": {},
          "execution_count": 17
        }
      ]
    },
    {
      "cell_type": "code",
      "source": [
        "plot_left = min(y_left, x_left)\n",
        "plot_right = max(y_right, x_right)"
      ],
      "metadata": {
        "id": "M5BGuN2nuUI5"
      },
      "execution_count": null,
      "outputs": []
    },
    {
      "cell_type": "markdown",
      "source": [
        "## Draw)"
      ],
      "metadata": {
        "id": "wOO6ZZmQwjbj"
      }
    },
    {
      "cell_type": "code",
      "source": [
        "\n",
        "plot_linspace = np.linspace(plot_left, plot_right, max(x_delta, y_delta) * 2)\n",
        "plt.hist2d(coords_x, coords_y, bins=[plot_linspace, plot_linspace])\n",
        "\n",
        "plt.show()"
      ],
      "metadata": {
        "colab": {
          "base_uri": "https://localhost:8080/",
          "height": 269
        },
        "id": "TcAS5bWNFPiN",
        "outputId": "2b34a629-4e87-4bc5-955e-a0d367f020b9"
      },
      "execution_count": null,
      "outputs": [
        {
          "output_type": "display_data",
          "data": {
            "text/plain": [
              "<Figure size 432x288 with 1 Axes>"
            ],
            "image/png": "[encoded data removed]"
          },
          "metadata": {
            "needs_background": "light"
          }
        }
      ]
    },
    {
      "cell_type": "code",
      "source": [
        "sns.jointplot(x=coords_x, y=coords_y, kind='hex')\n",
        "plt.show()"
      ],
      "metadata": {
        "colab": {
          "base_uri": "https://localhost:8080/",
          "height": 441
        },
        "id": "F_ISUp73xyHd",
        "outputId": "fbdad32e-0be2-4b39-f3c6-b04311afeaa1"
      },
      "execution_count": null,
      "outputs": [
        {
          "output_type": "display_data",
          "data": {
            "text/plain": [
              "<Figure size 432x432 with 3 Axes>"
            ],
            "image/png": "[encoded data removed]"
          },
          "metadata": {
            "needs_background": "light"
          }
        }
      ]
    }
  ]
}