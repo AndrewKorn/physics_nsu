{
  "nbformat": 4,
  "nbformat_minor": 0,
  "metadata": {
    "colab": {
      "name": "biprisma_intensity.ipynb",
      "provenance": [],
      "collapsed_sections": [],
      "include_colab_link": true
    },
    "kernelspec": {
      "name": "python3",
      "display_name": "Python 3"
    },
    "language_info": {
      "name": "python"
    },
    "widgets": {
      "application/vnd.jupyter.widget-state+json": {
        "49bd73c2412d4805886661d2a5ee96d5": {
          "model_module": "@jupyter-widgets/controls",
          "model_name": "VBoxModel",
          "model_module_version": "1.5.0",
          "state": {
            "_dom_classes": [
              "widget-interact"
            ],
            "_model_module": "@jupyter-widgets/controls",
            "_model_module_version": "1.5.0",
            "_model_name": "VBoxModel",
            "_view_count": null,
            "_view_module": "@jupyter-widgets/controls",
            "_view_module_version": "1.5.0",
            "_view_name": "VBoxView",
            "box_style": "",
            "children": [
              "IPY_MODEL_d5901d2948d54503be58e775b71d6556",
              "IPY_MODEL_a8a2365fbc3d4553a43af41047bee96b",
              "IPY_MODEL_b9882ffa0396482e94f61d4a9bda9ef6",
              "IPY_MODEL_9b0f6355522a4abd94c8a37f3c92ed8f",
              "IPY_MODEL_56a6c028b19f4a03a5f6899b31d3c056",
              "IPY_MODEL_a5e7b34535944c3da24e2c12c161c3a0",
              "IPY_MODEL_c7adabe2c5254983bdbee8100a52bdac"
            ],
            "layout": "IPY_MODEL_db48c025cff74e45885d31ad375590fd"
          }
        },
        "d5901d2948d54503be58e775b71d6556": {
          "model_module": "@jupyter-widgets/controls",
          "model_name": "IntSliderModel",
          "model_module_version": "1.5.0",
          "state": {
            "_dom_classes": [],
            "_model_module": "@jupyter-widgets/controls",
            "_model_module_version": "1.5.0",
            "_model_name": "IntSliderModel",
            "_view_count": null,
            "_view_module": "@jupyter-widgets/controls",
            "_view_module_version": "1.5.0",
            "_view_name": "IntSliderView",
            "continuous_update": true,
            "description": "I_0",
            "description_tooltip": null,
            "disabled": false,
            "layout": "IPY_MODEL_1a6108132382471bb382ed26d3584e2c",
            "max": 30,
            "min": -10,
            "orientation": "horizontal",
            "readout": true,
            "readout_format": "d",
            "step": 1,
            "style": "IPY_MODEL_01b0ef9b5e324ffebecdda62c04f8076",
            "value": 10
          }
        },
        "a8a2365fbc3d4553a43af41047bee96b": {
          "model_module": "@jupyter-widgets/controls",
          "model_name": "FloatSliderModel",
          "model_module_version": "1.5.0",
          "state": {
            "_dom_classes": [],
            "_model_module": "@jupyter-widgets/controls",
            "_model_module_version": "1.5.0",
            "_model_name": "FloatSliderModel",
            "_view_count": null,
            "_view_module": "@jupyter-widgets/controls",
            "_view_module_version": "1.5.0",
            "_view_name": "FloatSliderView",
            "continuous_update": true,
            "description": "a",
            "description_tooltip": null,
            "disabled": false,
            "layout": "IPY_MODEL_4aeab53678964a06810213fc0611936f",
            "max": 0.01,
            "min": 0.001,
            "orientation": "horizontal",
            "readout": true,
            "readout_format": ".2f",
            "step": 0.001,
            "style": "IPY_MODEL_a523fc84ebde445d9e4830989e792a46",
            "value": 0.001
          }
        },
        "b9882ffa0396482e94f61d4a9bda9ef6": {
          "model_module": "@jupyter-widgets/controls",
          "model_name": "FloatSliderModel",
          "model_module_version": "1.5.0",
          "state": {
            "_dom_classes": [],
            "_model_module": "@jupyter-widgets/controls",
            "_model_module_version": "1.5.0",
            "_model_name": "FloatSliderModel",
            "_view_count": null,
            "_view_module": "@jupyter-widgets/controls",
            "_view_module_version": "1.5.0",
            "_view_name": "FloatSliderView",
            "continuous_update": true,
            "description": "b",
            "description_tooltip": null,
            "disabled": false,
            "layout": "IPY_MODEL_06e3a488d0f746358abe22bfcbae1014",
            "max": 0.01,
            "min": 0.001,
            "orientation": "horizontal",
            "readout": true,
            "readout_format": ".2f",
            "step": 0.001,
            "style": "IPY_MODEL_fb81a04511b04171a5acdc048b74dfa3",
            "value": 0.001
          }
        },
        "9b0f6355522a4abd94c8a37f3c92ed8f": {
          "model_module": "@jupyter-widgets/controls",
          "model_name": "FloatSliderModel",
          "model_module_version": "1.5.0",
          "state": {
            "_dom_classes": [],
            "_model_module": "@jupyter-widgets/controls",
            "_model_module_version": "1.5.0",
            "_model_name": "FloatSliderModel",
            "_view_count": null,
            "_view_module": "@jupyter-widgets/controls",
            "_view_module_version": "1.5.0",
            "_view_name": "FloatSliderView",
            "continuous_update": true,
            "description": "alpha",
            "description_tooltip": null,
            "disabled": false,
            "layout": "IPY_MODEL_bd191a1af24240129d153dcc2dd29f1d",
            "max": 0.00005,
            "min": 0.00001,
            "orientation": "horizontal",
            "readout": true,
            "readout_format": ".2f",
            "step": 0.00001,
            "style": "IPY_MODEL_e0e7febcecab4c0b9fe557ec41e1e2ea",
            "value": 0.00001
          }
        },
        "56a6c028b19f4a03a5f6899b31d3c056": {
          "model_module": "@jupyter-widgets/controls",
          "model_name": "FloatSliderModel",
          "model_module_version": "1.5.0",
          "state": {
            "_dom_classes": [],
            "_model_module": "@jupyter-widgets/controls",
            "_model_module_version": "1.5.0",
            "_model_name": "FloatSliderModel",
            "_view_count": null,
            "_view_module": "@jupyter-widgets/controls",
            "_view_module_version": "1.5.0",
            "_view_name": "FloatSliderView",
            "continuous_update": true,
            "description": "lmb",
            "description_tooltip": null,
            "disabled": false,
            "layout": "IPY_MODEL_57d77075aeda45c5b38e4ab1ef2f0a15",
            "max": 780,
            "min": 380,
            "orientation": "horizontal",
            "readout": true,
            "readout_format": ".2f",
            "step": 10,
            "style": "IPY_MODEL_5e7bf70ec7ca40e28d01b2c6de40c3d1",
            "value": 380
          }
        },
        "a5e7b34535944c3da24e2c12c161c3a0": {
          "model_module": "@jupyter-widgets/controls",
          "model_name": "FloatSliderModel",
          "model_module_version": "1.5.0",
          "state": {
            "_dom_classes": [],
            "_model_module": "@jupyter-widgets/controls",
            "_model_module_version": "1.5.0",
            "_model_name": "FloatSliderModel",
            "_view_count": null,
            "_view_module": "@jupyter-widgets/controls",
            "_view_module_version": "1.5.0",
            "_view_name": "FloatSliderView",
            "continuous_update": true,
            "description": "n",
            "description_tooltip": null,
            "disabled": false,
            "layout": "IPY_MODEL_744cf20e3c5b4ca5862f5306374abd15",
            "max": 4.5,
            "min": -1.5,
            "orientation": "horizontal",
            "readout": true,
            "readout_format": ".2f",
            "step": 0.1,
            "style": "IPY_MODEL_7a7455590eac425c87050139041c2177",
            "value": 1.5
          }
        },
        "c7adabe2c5254983bdbee8100a52bdac": {
          "model_module": "@jupyter-widgets/output",
          "model_name": "OutputModel",
          "model_module_version": "1.0.0",
          "state": {
            "_dom_classes": [],
            "_model_module": "@jupyter-widgets/output",
            "_model_module_version": "1.0.0",
            "_model_name": "OutputModel",
            "_view_count": null,
            "_view_module": "@jupyter-widgets/output",
            "_view_module_version": "1.0.0",
            "_view_name": "OutputView",
            "layout": "IPY_MODEL_0441e106472a433799cfafe479e64696",
            "msg_id": "",
            "outputs": [
              {
                "output_type": "display_data",
                "data": {
                  "text/plain": "<Figure size 432x288 with 1 Axes>",
                  "image/png": "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\n"
                },
                "metadata": {
                  "needs_background": "light"
                }
              },
              {
                "output_type": "display_data",
                "data": {
                  "text/plain": "<module 'matplotlib.pyplot' from '/usr/local/lib/python3.7/dist-packages/matplotlib/pyplot.py'>"
                },
                "metadata": {}
              }
            ]
          }
        },
        "db48c025cff74e45885d31ad375590fd": {
          "model_module": "@jupyter-widgets/base",
          "model_name": "LayoutModel",
          "model_module_version": "1.2.0",
          "state": {
            "_model_module": "@jupyter-widgets/base",
            "_model_module_version": "1.2.0",
            "_model_name": "LayoutModel",
            "_view_count": null,
            "_view_module": "@jupyter-widgets/base",
            "_view_module_version": "1.2.0",
            "_view_name": "LayoutView",
            "align_content": null,
            "align_items": null,
            "align_self": null,
            "border": null,
            "bottom": null,
            "display": null,
            "flex": null,
            "flex_flow": null,
            "grid_area": null,
            "grid_auto_columns": null,
            "grid_auto_flow": null,
            "grid_auto_rows": null,
            "grid_column": null,
            "grid_gap": null,
            "grid_row": null,
            "grid_template_areas": null,
            "grid_template_columns": null,
            "grid_template_rows": null,
            "height": null,
            "justify_content": null,
            "justify_items": null,
            "left": null,
            "margin": null,
            "max_height": null,
            "max_width": null,
            "min_height": null,
            "min_width": null,
            "object_fit": null,
            "object_position": null,
            "order": null,
            "overflow": null,
            "overflow_x": null,
            "overflow_y": null,
            "padding": null,
            "right": null,
            "top": null,
            "visibility": null,
            "width": null
          }
        },
        "1a6108132382471bb382ed26d3584e2c": {
          "model_module": "@jupyter-widgets/base",
          "model_name": "LayoutModel",
          "model_module_version": "1.2.0",
          "state": {
            "_model_module": "@jupyter-widgets/base",
            "_model_module_version": "1.2.0",
            "_model_name": "LayoutModel",
            "_view_count": null,
            "_view_module": "@jupyter-widgets/base",
            "_view_module_version": "1.2.0",
            "_view_name": "LayoutView",
            "align_content": null,
            "align_items": null,
            "align_self": null,
            "border": null,
            "bottom": null,
            "display": null,
            "flex": null,
            "flex_flow": null,
            "grid_area": null,
            "grid_auto_columns": null,
            "grid_auto_flow": null,
            "grid_auto_rows": null,
            "grid_column": null,
            "grid_gap": null,
            "grid_row": null,
            "grid_template_areas": null,
            "grid_template_columns": null,
            "grid_template_rows": null,
            "height": null,
            "justify_content": null,
            "justify_items": null,
            "left": null,
            "margin": null,
            "max_height": null,
            "max_width": null,
            "min_height": null,
            "min_width": null,
            "object_fit": null,
            "object_position": null,
            "order": null,
            "overflow": null,
            "overflow_x": null,
            "overflow_y": null,
            "padding": null,
            "right": null,
            "top": null,
            "visibility": null,
            "width": null
          }
        },
        "01b0ef9b5e324ffebecdda62c04f8076": {
          "model_module": "@jupyter-widgets/controls",
          "model_name": "SliderStyleModel",
          "model_module_version": "1.5.0",
          "state": {
            "_model_module": "@jupyter-widgets/controls",
            "_model_module_version": "1.5.0",
            "_model_name": "SliderStyleModel",
            "_view_count": null,
            "_view_module": "@jupyter-widgets/base",
            "_view_module_version": "1.2.0",
            "_view_name": "StyleView",
            "description_width": "",
            "handle_color": null
          }
        },
        "4aeab53678964a06810213fc0611936f": {
          "model_module": "@jupyter-widgets/base",
          "model_name": "LayoutModel",
          "model_module_version": "1.2.0",
          "state": {
            "_model_module": "@jupyter-widgets/base",
            "_model_module_version": "1.2.0",
            "_model_name": "LayoutModel",
            "_view_count": null,
            "_view_module": "@jupyter-widgets/base",
            "_view_module_version": "1.2.0",
            "_view_name": "LayoutView",
            "align_content": null,
            "align_items": null,
            "align_self": null,
            "border": null,
            "bottom": null,
            "display": null,
            "flex": null,
            "flex_flow": null,
            "grid_area": null,
            "grid_auto_columns": null,
            "grid_auto_flow": null,
            "grid_auto_rows": null,
            "grid_column": null,
            "grid_gap": null,
            "grid_row": null,
            "grid_template_areas": null,
            "grid_template_columns": null,
            "grid_template_rows": null,
            "height": null,
            "justify_content": null,
            "justify_items": null,
            "left": null,
            "margin": null,
            "max_height": null,
            "max_width": null,
            "min_height": null,
            "min_width": null,
            "object_fit": null,
            "object_position": null,
            "order": null,
            "overflow": null,
            "overflow_x": null,
            "overflow_y": null,
            "padding": null,
            "right": null,
            "top": null,
            "visibility": null,
            "width": null
          }
        },
        "a523fc84ebde445d9e4830989e792a46": {
          "model_module": "@jupyter-widgets/controls",
          "model_name": "SliderStyleModel",
          "model_module_version": "1.5.0",
          "state": {
            "_model_module": "@jupyter-widgets/controls",
            "_model_module_version": "1.5.0",
            "_model_name": "SliderStyleModel",
            "_view_count": null,
            "_view_module": "@jupyter-widgets/base",
            "_view_module_version": "1.2.0",
            "_view_name": "StyleView",
            "description_width": "",
            "handle_color": null
          }
        },
        "06e3a488d0f746358abe22bfcbae1014": {
          "model_module": "@jupyter-widgets/base",
          "model_name": "LayoutModel",
          "model_module_version": "1.2.0",
          "state": {
            "_model_module": "@jupyter-widgets/base",
            "_model_module_version": "1.2.0",
            "_model_name": "LayoutModel",
            "_view_count": null,
            "_view_module": "@jupyter-widgets/base",
            "_view_module_version": "1.2.0",
            "_view_name": "LayoutView",
            "align_content": null,
            "align_items": null,
            "align_self": null,
            "border": null,
            "bottom": null,
            "display": null,
            "flex": null,
            "flex_flow": null,
            "grid_area": null,
            "grid_auto_columns": null,
            "grid_auto_flow": null,
            "grid_auto_rows": null,
            "grid_column": null,
            "grid_gap": null,
            "grid_row": null,
            "grid_template_areas": null,
            "grid_template_columns": null,
            "grid_template_rows": null,
            "height": null,
            "justify_content": null,
            "justify_items": null,
            "left": null,
            "margin": null,
            "max_height": null,
            "max_width": null,
            "min_height": null,
            "min_width": null,
            "object_fit": null,
            "object_position": null,
            "order": null,
            "overflow": null,
            "overflow_x": null,
            "overflow_y": null,
            "padding": null,
            "right": null,
            "top": null,
            "visibility": null,
            "width": null
          }
        },
        "fb81a04511b04171a5acdc048b74dfa3": {
          "model_module": "@jupyter-widgets/controls",
          "model_name": "SliderStyleModel",
          "model_module_version": "1.5.0",
          "state": {
            "_model_module": "@jupyter-widgets/controls",
            "_model_module_version": "1.5.0",
            "_model_name": "SliderStyleModel",
            "_view_count": null,
            "_view_module": "@jupyter-widgets/base",
            "_view_module_version": "1.2.0",
            "_view_name": "StyleView",
            "description_width": "",
            "handle_color": null
          }
        },
        "bd191a1af24240129d153dcc2dd29f1d": {
          "model_module": "@jupyter-widgets/base",
          "model_name": "LayoutModel",
          "model_module_version": "1.2.0",
          "state": {
            "_model_module": "@jupyter-widgets/base",
            "_model_module_version": "1.2.0",
            "_model_name": "LayoutModel",
            "_view_count": null,
            "_view_module": "@jupyter-widgets/base",
            "_view_module_version": "1.2.0",
            "_view_name": "LayoutView",
            "align_content": null,
            "align_items": null,
            "align_self": null,
            "border": null,
            "bottom": null,
            "display": null,
            "flex": null,
            "flex_flow": null,
            "grid_area": null,
            "grid_auto_columns": null,
            "grid_auto_flow": null,
            "grid_auto_rows": null,
            "grid_column": null,
            "grid_gap": null,
            "grid_row": null,
            "grid_template_areas": null,
            "grid_template_columns": null,
            "grid_template_rows": null,
            "height": null,
            "justify_content": null,
            "justify_items": null,
            "left": null,
            "margin": null,
            "max_height": null,
            "max_width": null,
            "min_height": null,
            "min_width": null,
            "object_fit": null,
            "object_position": null,
            "order": null,
            "overflow": null,
            "overflow_x": null,
            "overflow_y": null,
            "padding": null,
            "right": null,
            "top": null,
            "visibility": null,
            "width": null
          }
        },
        "e0e7febcecab4c0b9fe557ec41e1e2ea": {
          "model_module": "@jupyter-widgets/controls",
          "model_name": "SliderStyleModel",
          "model_module_version": "1.5.0",
          "state": {
            "_model_module": "@jupyter-widgets/controls",
            "_model_module_version": "1.5.0",
            "_model_name": "SliderStyleModel",
            "_view_count": null,
            "_view_module": "@jupyter-widgets/base",
            "_view_module_version": "1.2.0",
            "_view_name": "StyleView",
            "description_width": "",
            "handle_color": null
          }
        },
        "57d77075aeda45c5b38e4ab1ef2f0a15": {
          "model_module": "@jupyter-widgets/base",
          "model_name": "LayoutModel",
          "model_module_version": "1.2.0",
          "state": {
            "_model_module": "@jupyter-widgets/base",
            "_model_module_version": "1.2.0",
            "_model_name": "LayoutModel",
            "_view_count": null,
            "_view_module": "@jupyter-widgets/base",
            "_view_module_version": "1.2.0",
            "_view_name": "LayoutView",
            "align_content": null,
            "align_items": null,
            "align_self": null,
            "border": null,
            "bottom": null,
            "display": null,
            "flex": null,
            "flex_flow": null,
            "grid_area": null,
            "grid_auto_columns": null,
            "grid_auto_flow": null,
            "grid_auto_rows": null,
            "grid_column": null,
            "grid_gap": null,
            "grid_row": null,
            "grid_template_areas": null,
            "grid_template_columns": null,
            "grid_template_rows": null,
            "height": null,
            "justify_content": null,
            "justify_items": null,
            "left": null,
            "margin": null,
            "max_height": null,
            "max_width": null,
            "min_height": null,
            "min_width": null,
            "object_fit": null,
            "object_position": null,
            "order": null,
            "overflow": null,
            "overflow_x": null,
            "overflow_y": null,
            "padding": null,
            "right": null,
            "top": null,
            "visibility": null,
            "width": null
          }
        },
        "5e7bf70ec7ca40e28d01b2c6de40c3d1": {
          "model_module": "@jupyter-widgets/controls",
          "model_name": "SliderStyleModel",
          "model_module_version": "1.5.0",
          "state": {
            "_model_module": "@jupyter-widgets/controls",
            "_model_module_version": "1.5.0",
            "_model_name": "SliderStyleModel",
            "_view_count": null,
            "_view_module": "@jupyter-widgets/base",
            "_view_module_version": "1.2.0",
            "_view_name": "StyleView",
            "description_width": "",
            "handle_color": null
          }
        },
        "744cf20e3c5b4ca5862f5306374abd15": {
          "model_module": "@jupyter-widgets/base",
          "model_name": "LayoutModel",
          "model_module_version": "1.2.0",
          "state": {
            "_model_module": "@jupyter-widgets/base",
            "_model_module_version": "1.2.0",
            "_model_name": "LayoutModel",
            "_view_count": null,
            "_view_module": "@jupyter-widgets/base",
            "_view_module_version": "1.2.0",
            "_view_name": "LayoutView",
            "align_content": null,
            "align_items": null,
            "align_self": null,
            "border": null,
            "bottom": null,
            "display": null,
            "flex": null,
            "flex_flow": null,
            "grid_area": null,
            "grid_auto_columns": null,
            "grid_auto_flow": null,
            "grid_auto_rows": null,
            "grid_column": null,
            "grid_gap": null,
            "grid_row": null,
            "grid_template_areas": null,
            "grid_template_columns": null,
            "grid_template_rows": null,
            "height": null,
            "justify_content": null,
            "justify_items": null,
            "left": null,
            "margin": null,
            "max_height": null,
            "max_width": null,
            "min_height": null,
            "min_width": null,
            "object_fit": null,
            "object_position": null,
            "order": null,
            "overflow": null,
            "overflow_x": null,
            "overflow_y": null,
            "padding": null,
            "right": null,
            "top": null,
            "visibility": null,
            "width": null
          }
        },
        "7a7455590eac425c87050139041c2177": {
          "model_module": "@jupyter-widgets/controls",
          "model_name": "SliderStyleModel",
          "model_module_version": "1.5.0",
          "state": {
            "_model_module": "@jupyter-widgets/controls",
            "_model_module_version": "1.5.0",
            "_model_name": "SliderStyleModel",
            "_view_count": null,
            "_view_module": "@jupyter-widgets/base",
            "_view_module_version": "1.2.0",
            "_view_name": "StyleView",
            "description_width": "",
            "handle_color": null
          }
        },
        "0441e106472a433799cfafe479e64696": {
          "model_module": "@jupyter-widgets/base",
          "model_name": "LayoutModel",
          "model_module_version": "1.2.0",
          "state": {
            "_model_module": "@jupyter-widgets/base",
            "_model_module_version": "1.2.0",
            "_model_name": "LayoutModel",
            "_view_count": null,
            "_view_module": "@jupyter-widgets/base",
            "_view_module_version": "1.2.0",
            "_view_name": "LayoutView",
            "align_content": null,
            "align_items": null,
            "align_self": null,
            "border": null,
            "bottom": null,
            "display": null,
            "flex": null,
            "flex_flow": null,
            "grid_area": null,
            "grid_auto_columns": null,
            "grid_auto_flow": null,
            "grid_auto_rows": null,
            "grid_column": null,
            "grid_gap": null,
            "grid_row": null,
            "grid_template_areas": null,
            "grid_template_columns": null,
            "grid_template_rows": null,
            "height": null,
            "justify_content": null,
            "justify_items": null,
            "left": null,
            "margin": null,
            "max_height": null,
            "max_width": null,
            "min_height": null,
            "min_width": null,
            "object_fit": null,
            "object_position": null,
            "order": null,
            "overflow": null,
            "overflow_x": null,
            "overflow_y": null,
            "padding": null,
            "right": null,
            "top": null,
            "visibility": null,
            "width": null
          }
        }
      }
    }
  },
  "cells": [
    {
      "cell_type": "markdown",
      "metadata": {
        "id": "view-in-github",
        "colab_type": "text"
      },
      "source": [
        "<a href=\"https://colab.research.google.com/github/AndrewKorn/physics_nsu/blob/main/biprisma_intensity.ipynb\" target=\"_parent\"><img src=\"https://colab.research.google.com/assets/colab-badge.svg\" alt=\"Open In Colab\"/></a>"
      ]
    },
    {
      "cell_type": "code",
      "source": [
        "import numpy as np\n",
        "from math import cos, sin, pi, tan\n",
        "import matplotlib.pyplot as plt\n",
        "from ipywidgets import interact, FloatSlider, widgets"
      ],
      "metadata": {
        "id": "JpFjI54oA16k"
      },
      "execution_count": 2,
      "outputs": []
    },
    {
      "cell_type": "code",
      "source": [
        "def intensity(x, I_0, a, b, alpha, lmb, n):\n",
        "  return 2* I_0 * (1 + cos(\n",
        "      4 * pi * alpha * (n - 1) * a * x /\n",
        "      lmb * (a + b)\n",
        "  ))"
      ],
      "metadata": {
        "id": "zHGaxDlb_6Rc"
      },
      "execution_count": 3,
      "outputs": []
    },
    {
      "cell_type": "code",
      "source": [
        "def get_plt(I_0, a, b, alpha, lmb, n):\n",
        "  lmb = lmb / 1000000000\n",
        "  intensity_data = lambda x: intensity(x, I_0, a, b, alpha, lmb, n)\n",
        "\n",
        "  x_min = 0\n",
        "  x_max = 1000 \n",
        "  x_data = np.linspace(x_min, x_max, 1000)\n",
        "\n",
        "  fig = plt.subplots()\n",
        "  plt.plot(x_data, [intensity_data(x) for x in x_data])\n",
        "  return plt\n",
        "\n",
        "get_plt(10, 0.005, 0.005, 0.00002, 540, 1.5)  "
      ],
      "metadata": {
        "id": "d2Y09XHZ_6Tq",
        "outputId": "5cbc955b-4f7d-47e6-98e8-78441dd7de7e",
        "colab": {
          "base_uri": "https://localhost:8080/",
          "height": 282
        }
      },
      "execution_count": 4,
      "outputs": [
        {
          "output_type": "execute_result",
          "data": {
            "text/plain": [
              "<module 'matplotlib.pyplot' from '/usr/local/lib/python3.7/dist-packages/matplotlib/pyplot.py'>"
            ]
          },
          "metadata": {},
          "execution_count": 4
        },
        {
          "output_type": "display_data",
          "data": {
            "text/plain": [
              "<Figure size 432x288 with 1 Axes>"
            ],
            "image/png": "[encoded data removed]"
          },
          "metadata": {
            "needs_background": "light"
          }
        }
      ]
    },
    {
      "cell_type": "code",
      "source": [
        "\n",
        "interact(\n",
        "    get_plt,\n",
        "    I_0=10,\n",
        "    a=FloatSlider(min=0.001, max=0.01, step=0.001),\n",
        "    b=FloatSlider(min=0.001, max=0.01, step=0.001),\n",
        "    alpha=FloatSlider(min=0.00001, max=0.00005, step=0.00001) ,\n",
        "    lmb=FloatSlider(min=380, max=780, step=10),\n",
        "    n=1.5\n",
        "  )\n"
      ],
      "metadata": {
        "colab": {
          "base_uri": "https://localhost:8080/",
          "height": 492,
          "referenced_widgets": [
            "49bd73c2412d4805886661d2a5ee96d5",
            "d5901d2948d54503be58e775b71d6556",
            "a8a2365fbc3d4553a43af41047bee96b",
            "b9882ffa0396482e94f61d4a9bda9ef6",
            "9b0f6355522a4abd94c8a37f3c92ed8f",
            "56a6c028b19f4a03a5f6899b31d3c056",
            "a5e7b34535944c3da24e2c12c161c3a0",
            "c7adabe2c5254983bdbee8100a52bdac",
            "db48c025cff74e45885d31ad375590fd",
            "1a6108132382471bb382ed26d3584e2c",
            "01b0ef9b5e324ffebecdda62c04f8076",
            "4aeab53678964a06810213fc0611936f",
            "a523fc84ebde445d9e4830989e792a46",
            "06e3a488d0f746358abe22bfcbae1014",
            "fb81a04511b04171a5acdc048b74dfa3",
            "bd191a1af24240129d153dcc2dd29f1d",
            "e0e7febcecab4c0b9fe557ec41e1e2ea",
            "57d77075aeda45c5b38e4ab1ef2f0a15",
            "5e7bf70ec7ca40e28d01b2c6de40c3d1",
            "744cf20e3c5b4ca5862f5306374abd15",
            "7a7455590eac425c87050139041c2177",
            "0441e106472a433799cfafe479e64696"
          ]
        },
        "id": "ML178cX0_6Vw",
        "outputId": "ed070245-d764-46c9-ae50-dd5802107d76"
      },
      "execution_count": 5,
      "outputs": [
        {
          "output_type": "display_data",
          "data": {
            "text/plain": [
              "interactive(children=(IntSlider(value=10, description='I_0', max=30, min=-10), FloatSlider(value=0.001, descri…"
            ],
            "application/vnd.jupyter.widget-view+json": {
              "version_major": 2,
              "version_minor": 0,
              "model_id": "49bd73c2412d4805886661d2a5ee96d5"
            }
          },
          "metadata": {}
        },
        {
          "output_type": "execute_result",
          "data": {
            "text/plain": [
              "<function __main__.get_plt>"
            ]
          },
          "metadata": {},
          "execution_count": 5
        }
      ]
    }
  ]
}