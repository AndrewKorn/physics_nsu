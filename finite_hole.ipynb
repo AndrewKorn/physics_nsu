{
  "nbformat": 4,
  "nbformat_minor": 0,
  "metadata": {
    "colab": {
      "name": "finite-hole.ipynb",
      "provenance": [],
      "collapsed_sections": [],
      "toc_visible": true,
      "include_colab_link": true
    },
    "kernelspec": {
      "name": "python3",
      "display_name": "Python 3"
    },
    "language_info": {
      "name": "python"
    }
  },
  "cells": [
    {
      "cell_type": "markdown",
      "metadata": {
        "id": "view-in-github",
        "colab_type": "text"
      },
      "source": [
        "<a href=\"https://colab.research.google.com/github/AndrewKorn/physics_nsu/blob/main/finite_hole.ipynb\" target=\"_parent\"><img src=\"https://colab.research.google.com/assets/colab-badge.svg\" alt=\"Open In Colab\"/></a>"
      ]
    },
    {
      "cell_type": "markdown",
      "source": [
        "#**Найти уровни энергии и построить соответствующие волновые функции в одномерной прямоугольной потенциальной яме шириной $a$ и глубиной $–U_0$**\n",
        "\n"
      ],
      "metadata": {
        "id": "buGZrHtAKhYQ"
      }
    },
    {
      "cell_type": "markdown",
      "source": [
        "##Уравнение Шредингера для областей внутри($Ι$) и снаружи($ΙΙ$) ямы"
      ],
      "metadata": {
        "id": "0nl9Epo6LdFP"
      }
    },
    {
      "cell_type": "markdown",
      "source": [
        "$\\frac{ħ^2}{2m}𝛹^{''}_{Ι} + (E + U_0)𝛹_{Ι} = 0$ для $-\\frac{a}{2} \\leq x \\leq \\frac{a}{2}$\n",
        "\n",
        "$\\frac{ħ^2}{2m}𝛹^{''}_{ΙΙ} + E𝛹_{Ι\n",
        "Ι} = 0$ для $|x| ≥ a$"
      ],
      "metadata": {
        "id": "64ME_04aLpPF"
      }
    },
    {
      "cell_type": "markdown",
      "source": [
        "Волновые функции могут быть либо симметричными либо антисимметричными в силу\n",
        "симметрии потенциала. С учетом этого и непрерывности Ψ(x ) на границах ямы\n",
        "получаются граничные условия, а из них уравнения на уровни энергии и вид симметричных\n",
        "и антисимметричных решений. \n"
      ],
      "metadata": {
        "id": "DZJWqqBBNCZJ"
      }
    },
    {
      "cell_type": "markdown",
      "source": [
        "$k_1 = \\sqrt{\\frac{2m|E|}{ħ^2}}$\n",
        "\n",
        "$k_2 = \\sqrt{\\frac{2m(E + U_0)}{ħ^2}}$"
      ],
      "metadata": {
        "id": "3Qex42mtNmDR"
      }
    },
    {
      "cell_type": "markdown",
      "source": [
        "##Cимметричный случай\n"
      ],
      "metadata": {
        "id": "SkMmqcCuNX6o"
      }
    },
    {
      "cell_type": "markdown",
      "source": [
        "\\begin{equation*}\n",
        "𝛹(x) = \n",
        " \\begin{cases}\n",
        "   A e^{k_1x} &\\text{$x < -\\frac{a}{2}$}\\\\\n",
        "   B cos(k_2x) &\\text{$x \\in [-\\frac{a}{2}; \\frac{a}{2}]$} \\\\\n",
        "   A e^{-k_1x} &\\text{$x > \\frac{a}{2}$}\n",
        " \\end{cases}\n",
        "\\end{equation*}"
      ],
      "metadata": {
        "id": "CBPnfwguN_4B"
      }
    },
    {
      "cell_type": "markdown",
      "source": [
        "\n",
        "Из непрерывности волновой функции и ее производной следуют следующие уровнения:\n",
        "\n",
        "\\begin{equation*}\n",
        " \\begin{cases}\n",
        "   A e^{-k_1 \\frac{a}{2}} = B cos(k_2\\frac{a}{2})\n",
        "   \\\\\n",
        "   k_1 A e^{-k_1 \\frac{a}{2}} =k_2 B sin(k_2\\frac{a}{2})\n",
        " \\end{cases}\n",
        "\\end{equation*}"
      ],
      "metadata": {
        "id": "00K8emnkQAs5"
      }
    },
    {
      "cell_type": "markdown",
      "source": [
        "Получили систему двух линейных алгебраических уравнений относительно неизвестных\n",
        "коэффициентов A, B. Система уравнений совместна, когда:\n",
        "\n",
        "$tg(\\frac{k_2a}{2}) = \\frac{k_1}{k_2}$\n",
        "\n",
        "или\n",
        "\n",
        "$tg(\\frac{\\sqrt{2m(E+U_0)}a}{2ħ}) = \\frac{\\sqrt{|E|}}{\\sqrt{E+U_0}}$"
      ],
      "metadata": {
        "id": "3N5Ql0UyQH6G"
      }
    },
    {
      "cell_type": "markdown",
      "source": [
        "##Антисимметричный случай\n"
      ],
      "metadata": {
        "id": "SWnLUqS-QtOS"
      }
    },
    {
      "cell_type": "markdown",
      "source": [
        "\\begin{equation*}\n",
        "𝛹(x) = \n",
        " \\begin{cases}\n",
        "   -A e^{k_1x} &\\text{$x < -\\frac{a}{2}$}\\\\\n",
        "   B sin(k_2x) &\\text{$x \\in [-\\frac{a}{2}; \\frac{a}{2}]$} \\\\\n",
        "   A e^{-k_1x} &\\text{$x > \\frac{a}{2}$}\n",
        " \\end{cases}\n",
        "\\end{equation*}"
      ],
      "metadata": {
        "id": "FKULdoJYQ_aV"
      }
    },
    {
      "cell_type": "markdown",
      "source": [
        "Из непрерывности волновой функции и ее производной следуют следующие уровнения:\n",
        "\n",
        "\\begin{equation*}\n",
        " \\begin{cases}\n",
        "   A e^{-k_1 \\frac{a}{2}} = B sin(k_2\\frac{a}{2})\n",
        "   \\\\\n",
        "   -k_1 A e^{-k_1 \\frac{a}{2}} =k_2 B cos(k_2\\frac{a}{2})\n",
        " \\end{cases}\n",
        "\\end{equation*}"
      ],
      "metadata": {
        "id": "oFMi7S_ERYvN"
      }
    },
    {
      "cell_type": "markdown",
      "source": [
        "Получили систему двух линейных алгебраических уравнений относительно неизвестных\n",
        "коэффициентов A, B. Система уравнений совместна, когда:\n",
        "\n",
        "$ctg(\\frac{k_2a}{2}) = -\\frac{k_1}{k_2}$\n",
        "\n",
        "или\n",
        "\n",
        "$ctg(\\frac{\\sqrt{2m(E+U_0)}a}{2ħ}) = -\\frac{\\sqrt{|E|}}{\\sqrt{E+U_0}}$"
      ],
      "metadata": {
        "id": "Tas-2-9NR7rO"
      }
    },
    {
      "cell_type": "markdown",
      "source": [
        "##Решение уравнений"
      ],
      "metadata": {
        "id": "KqJJ7U1aSKp5"
      }
    },
    {
      "cell_type": "code",
      "source": [
        "import math\n",
        "import matplotlib.pyplot as plt\n",
        "import numpy as np\n",
        "import pylab as p"
      ],
      "metadata": {
        "id": "0tlu_AARa59Y"
      },
      "execution_count": 13,
      "outputs": []
    },
    {
      "cell_type": "code",
      "source": [
        "m = 1\n",
        "U = 1\n",
        "h = 1\n",
        "a = 10"
      ],
      "metadata": {
        "id": "nDFKNV2nbBqL"
      },
      "execution_count": 14,
      "outputs": []
    },
    {
      "cell_type": "code",
      "source": [
        "x = p.linspace(-U + 0.00001, 0, 10000)\n",
        "tg = (p.sin(a * (2 * m * (x + U))**(1/2) / (2 * h))) / (p.cos(a * (2 * m * (x + U))**(1/2) / (2 * h)))\n",
        "ctg = -(p.cos(a * (2 * m * (x + U))**(1/2) / (2 * h))) / (p.sin(a * (2 * m * (x + U))**(1/2) / (2 * h)))\n",
        "right = (abs(x) / (U + x))**(1/2)\n",
        "\n",
        "tol = 5\n",
        "tg[tg > tol] = np.nan\n",
        "tg[tg < -tol] = np.nan\n",
        "ctg[ctg > tol] = np.nan\n",
        "ctg[ctg < -tol] = np.nan\n",
        "right[right > tol] = np.nan\n",
        "right[right < -tol] = np.nan\n",
        "\n",
        "p.plot(x, tg, 'r-', lw=2)\n",
        "p.plot(x, ctg, 'g-', lw=2)\n",
        "p.plot(x, right, 'b-', lw=2)\n",
        "p"
      ],
      "metadata": {
        "colab": {
          "base_uri": "https://localhost:8080/",
          "height": 282
        },
        "outputId": "e1a77739-89fa-40b1-b27b-12b0f32b40fe",
        "id": "Mfk1O79jdcvD"
      },
      "execution_count": 15,
      "outputs": [
        {
          "output_type": "execute_result",
          "data": {
            "text/plain": [
              "<module 'pylab' from '/usr/local/lib/python3.7/dist-packages/pylab.py'>"
            ]
          },
          "metadata": {},
          "execution_count": 15
        },
        {
          "output_type": "display_data",
          "data": {
            "text/plain": [
              "<Figure size 432x288 with 1 Axes>"
            ],
            "image/png": "[encoded data removed]"
          },
          "metadata": {
            "needs_background": "light"
          }
        }
      ]
    },
    {
      "cell_type": "code",
      "source": [
        "def derivative(f, x):\n",
        "  h_ = 1e-8\n",
        "  return (f(x + h_) - f(x)) / h_\n",
        "\n",
        "def solver(f, x0, epsilon, max_iter):\n",
        "  xn = x0\n",
        "  for n in range(0, max_iter):\n",
        "    y = f(xn)\n",
        "    if abs(y) < epsilon:\n",
        "      return xn\n",
        "    slope = derivative(f, xn)\n",
        "    if slope == 0:\n",
        "      return None\n",
        "    xn = xn - y / slope\n",
        "  return None\n",
        "\n",
        "def loop(f, L_bound, R_bound, increment):\n",
        "  solutions = []\n",
        "  while L_bound <= R_bound:\n",
        "    solution = solver(f, L_bound, 1e-10, 1000)\n",
        "    if solution is not None:\n",
        "      solution = round(solution,4)\n",
        "      if solution not in solutions:\n",
        "        solutions.append(solution)\n",
        "    L_bound += increment\n",
        "  return solutions"
      ],
      "metadata": {
        "id": "hxYSr65ppmxP"
      },
      "execution_count": 16,
      "outputs": []
    },
    {
      "cell_type": "code",
      "source": [
        "angle_f = lambda x_: a * (2 * m * (x_ + U))**(1/2) / (2 * h)\n",
        "\n",
        "tg_func = lambda x: (p.sin( angle_f(x) )) / (p.cos( angle_f(x) ))\n",
        "ctg_func = lambda x: -(p.cos( angle_f(x) )) / (p.sin( angle_f(x) ))\n",
        "\n",
        "right_func = lambda x: (abs(x) / (U + x))**(1/2)\n",
        "\n",
        "tg_right_inter = lambda x: abs(tg_func(x) - right_func(x))\n",
        "ctg_right_inter = lambda x: abs(ctg_func(x) - right_func(x))\n",
        "\n",
        "find_from = -U + 1e-10\n",
        "find_to = 0\n",
        "step_val = 1e-3\n",
        "\n",
        "tg_right_inter_sol = np.array(loop(tg_right_inter, find_from, find_to, step_val))\n",
        "ctg_right_inter_sol = np.array(loop(ctg_right_inter, find_from, find_to, step_val))\n",
        "\n",
        "tg_right_inter_sol = tg_right_inter_sol[np.logical_and(tg_right_inter_sol >= find_from, tg_right_inter_sol <= find_to)]\n",
        "ctg_right_inter_sol = ctg_right_inter_sol[np.logical_and(ctg_right_inter_sol >= find_from, ctg_right_inter_sol <= find_to)]\n",
        "\n",
        "full_solutions = np.concatenate((tg_right_inter_sol, ctg_right_inter_sol))\n",
        "tg_right_inter_sol, ctg_right_inter_sol, full_solutions"
      ],
      "metadata": {
        "colab": {
          "base_uri": "https://localhost:8080/"
        },
        "id": "sc8To15VrbRm",
        "outputId": "6d913307-805a-4dae-fd3b-d9addbc1978b"
      },
      "execution_count": 17,
      "outputs": [
        {
          "output_type": "stream",
          "name": "stderr",
          "text": [
            "/usr/local/lib/python3.7/dist-packages/ipykernel_launcher.py:1: RuntimeWarning: invalid value encountered in double_scalars\n",
            "  \"\"\"Entry point for launching an IPython kernel.\n",
            "/usr/local/lib/python3.7/dist-packages/ipykernel_launcher.py:6: RuntimeWarning: invalid value encountered in double_scalars\n",
            "  \n"
          ]
        },
        {
          "output_type": "execute_result",
          "data": {
            "text/plain": [
              "(array([-0.9622, -0.6647, -0.1193]),\n",
              " array([-0.8495, -0.4143]),\n",
              " array([-0.9622, -0.6647, -0.1193, -0.8495, -0.4143]))"
            ]
          },
          "metadata": {},
          "execution_count": 17
        }
      ]
    },
    {
      "cell_type": "markdown",
      "source": [
        "##Энергетические уровни"
      ],
      "metadata": {
        "id": "OqOkYR7PSO_9"
      }
    },
    {
      "cell_type": "code",
      "source": [
        "def draw_pit():\n",
        "  x1 = [i / 2.0 for i in range(-a * 2, -a + 1)]\n",
        "  y1 = [0 for i in x1]\n",
        "\n",
        "  x2 = [i / 2.0 for i in range(a, a * 2 + 1)]\n",
        "  y2 = [0 for i in x2]\n",
        "\n",
        "  y3 = [i for i in range(-U, 0 + 1)]\n",
        "  x3 = [-a / 2 for i in y3 ]\n",
        "\n",
        "  y4 = [i for i in range(-U, 0 + 1)]\n",
        "  x4 = [a / 2 for i in y4 ]\n",
        "\n",
        "  x5 = [i / 2.0 for i in range(-a, a + 1)]\n",
        "  y5 = [-U for i in x5]\n",
        "\n",
        "\n",
        "  plt.plot(x1, y1, color=\"black\")\n",
        "  plt.plot(x2, y2, color=\"black\")\n",
        "  plt.plot(x3, y3, color=\"black\")\n",
        "  plt.plot(x4, y4, color=\"black\")\n",
        "  plt.plot(x5, y5, color=\"black\")"
      ],
      "metadata": {
        "id": "sWeDoFvhSjWs"
      },
      "execution_count": 18,
      "outputs": []
    },
    {
      "cell_type": "code",
      "source": [
        "draw_pit()\n",
        "\n",
        "qwerty = np.linspace(-a, a, 1000)\n",
        "for en in tg_right_inter_sol:\n",
        "  zxc = [en for i in qwerty]\n",
        "  plt.plot(qwerty, zxc)"
      ],
      "metadata": {
        "colab": {
          "base_uri": "https://localhost:8080/",
          "height": 265
        },
        "id": "1BmmLI15yrv5",
        "outputId": "fe65dc56-7c40-40f1-c68b-993cd3e8ab6b"
      },
      "execution_count": 19,
      "outputs": [
        {
          "output_type": "display_data",
          "data": {
            "text/plain": [
              "<Figure size 432x288 with 1 Axes>"
            ],
            "image/png": "[encoded data removed]"
          },
          "metadata": {
            "needs_background": "light"
          }
        }
      ]
    },
    {
      "cell_type": "code",
      "source": [
        "draw_pit()\n",
        "\n",
        "qwerty = np.linspace(-a, a, 1000)\n",
        "for en in ctg_right_inter_sol:\n",
        "  zxc = [en for i in qwerty]\n",
        "  plt.plot(qwerty, zxc)"
      ],
      "metadata": {
        "colab": {
          "base_uri": "https://localhost:8080/",
          "height": 265
        },
        "id": "cHpLeDbdBBUV",
        "outputId": "5b0ca8dd-ea0e-43c1-8d6b-57e1b4090d6b"
      },
      "execution_count": 20,
      "outputs": [
        {
          "output_type": "display_data",
          "data": {
            "text/plain": [
              "<Figure size 432x288 with 1 Axes>"
            ],
            "image/png": "[encoded data removed]"
          },
          "metadata": {
            "needs_background": "light"
          }
        }
      ]
    },
    {
      "cell_type": "code",
      "source": [
        "draw_pit()\n",
        "\n",
        "qwerty = np.linspace(-a, a, 1000)\n",
        "for en in full_solutions:\n",
        "  zxc = [en for i in qwerty]\n",
        "  plt.plot(qwerty, zxc)"
      ],
      "metadata": {
        "colab": {
          "base_uri": "https://localhost:8080/",
          "height": 265
        },
        "id": "L9ziyBB0BJwx",
        "outputId": "36f6b647-d366-4a39-bf21-b7bd117b5644"
      },
      "execution_count": 21,
      "outputs": [
        {
          "output_type": "display_data",
          "data": {
            "text/plain": [
              "<Figure size 432x288 with 1 Axes>"
            ],
            "image/png": "[encoded data removed]"
          },
          "metadata": {
            "needs_background": "light"
          }
        }
      ]
    },
    {
      "cell_type": "markdown",
      "source": [
        "##Волновые функции"
      ],
      "metadata": {
        "id": "mnL01VSmSTUc"
      }
    },
    {
      "cell_type": "code",
      "source": [
        "draw_pit()\n",
        "\n",
        "qwerty = np.linspace(-a, a, 1000)\n",
        "\n",
        "for en in tg_right_inter_sol:\n",
        "  k1 = math.sqrt(2 * m * abs(en) / (h**2))\n",
        "  k2 = math.sqrt(2 * m * (en + U) / (h**2))\n",
        "\n",
        "  B =( k1 / ((math.cos(k2 * a / 2)**2+ k1 * (math.sin(k2 * a) / (2 * k2) + a / 2))))**(1/2)\n",
        "  A = B * math.cos(k2 * a / 2) * math.exp(k1 * a / 2)\n",
        "\n",
        "  def func(x):\n",
        "    if (x <= -a /2):\n",
        "      return A * (math.exp(k1 * x)) + en\n",
        "    if (-a / 2 < x < a / 2):\n",
        "      return B * math.cos(k2 * x) + en\n",
        "    if (x >= a / 2):\n",
        "      return A * math.exp(-k1 * x) + en\n",
        "\n",
        "  x = np.linspace(-a, a, 10000)\n",
        "  wave_func = [func(i) for i in x]\n",
        "  energy = [en for i in x]\n",
        "  plt.plot(x, energy, color='gray')\n",
        "  plt.plot(x, wave_func)"
      ],
      "metadata": {
        "colab": {
          "base_uri": "https://localhost:8080/",
          "height": 265
        },
        "id": "9PfDHF1PV-gF",
        "outputId": "cf60d013-07bb-4fc7-8d3c-02d705382f4e"
      },
      "execution_count": 22,
      "outputs": [
        {
          "output_type": "display_data",
          "data": {
            "text/plain": [
              "<Figure size 432x288 with 1 Axes>"
            ],
            "image/png": "[encoded data removed]"
          },
          "metadata": {
            "needs_background": "light"
          }
        }
      ]
    },
    {
      "cell_type": "code",
      "source": [
        ""
      ],
      "metadata": {
        "id": "zeBhwg34rF3g"
      },
      "execution_count": 22,
      "outputs": []
    },
    {
      "cell_type": "code",
      "source": [
        "draw_pit()\n",
        "\n",
        "qwerty = np.linspace(-a, a, 1000)\n",
        "for en in ctg_right_inter_sol:\n",
        "  k1 = math.sqrt(2 * m * abs(en) / (h**2))\n",
        "  k2 = math.sqrt(2 * m * (en + U) / (h**2))\n",
        "\n",
        "  B = (k1 / ((math.sin(k2 * a / 2)**2+ k1 * (-math.sin(k2 * a) / (2 * k2) + a / 2))))**(1/2)\n",
        "  A = B * math.sin(k2 * a / 2) * math.exp(k1 * a / 2)\n",
        "\n",
        "  def func(x):\n",
        "    if (x < -a /2):\n",
        "      return -A * (math.exp(k1 * x)) + en\n",
        "    if (-a / 2 <= x <= a / 2):\n",
        "      return B * math.sin(k2 * x) + en\n",
        "    if (x > a / 2):\n",
        "      return A * math.exp(-k1 * x) + en\n",
        "\n",
        "  x = np.linspace(-a, a, 10000)\n",
        "  wave_func = [func(i) for i in x]\n",
        "  energy = [en for i in x]\n",
        "  plt.plot(x, energy, color='gray')\n",
        "  plt.plot(x, wave_func)"
      ],
      "metadata": {
        "colab": {
          "base_uri": "https://localhost:8080/",
          "height": 265
        },
        "id": "jtyCEaK2Z-MB",
        "outputId": "c2dd320d-26bf-425c-b93b-7cc9f3099daa"
      },
      "execution_count": 23,
      "outputs": [
        {
          "output_type": "display_data",
          "data": {
            "text/plain": [
              "<Figure size 432x288 with 1 Axes>"
            ],
            "image/png": "[encoded data removed]"
          },
          "metadata": {
            "needs_background": "light"
          }
        }
      ]
    }
  ]
}