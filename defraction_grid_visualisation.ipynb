{
  "nbformat": 4,
  "nbformat_minor": 0,
  "metadata": {
    "colab": {
      "name": "Untitled2.ipynb",
      "provenance": [],
      "authorship_tag": "ABX9TyNROhgL2kokxPTq107r9W50",
      "include_colab_link": true
    },
    "kernelspec": {
      "name": "python3",
      "display_name": "Python 3"
    },
    "language_info": {
      "name": "python"
    },
    "widgets": {
      "application/vnd.jupyter.widget-state+json": {
        "694d505dc82b4f32b93bb9c0c97ac395": {
          "model_module": "@jupyter-widgets/controls",
          "model_name": "VBoxModel",
          "model_module_version": "1.5.0",
          "state": {
            "_dom_classes": [
              "widget-interact"
            ],
            "_model_module": "@jupyter-widgets/controls",
            "_model_module_version": "1.5.0",
            "_model_name": "VBoxModel",
            "_view_count": null,
            "_view_module": "@jupyter-widgets/controls",
            "_view_module_version": "1.5.0",
            "_view_name": "VBoxView",
            "box_style": "",
            "children": [
              "IPY_MODEL_cd4db7179afb486ab40ada27cdef7dba",
              "IPY_MODEL_1873292d26334418a155db861badeea1",
              "IPY_MODEL_f6efead1c705436093cd5f822e6860dd"
            ],
            "layout": "IPY_MODEL_884b6972562b4407b40fd3828d03267d"
          }
        },
        "cd4db7179afb486ab40ada27cdef7dba": {
          "model_module": "@jupyter-widgets/controls",
          "model_name": "FloatSliderModel",
          "model_module_version": "1.5.0",
          "state": {
            "_dom_classes": [],
            "_model_module": "@jupyter-widgets/controls",
            "_model_module_version": "1.5.0",
            "_model_name": "FloatSliderModel",
            "_view_count": null,
            "_view_module": "@jupyter-widgets/controls",
            "_view_module_version": "1.5.0",
            "_view_name": "FloatSliderView",
            "continuous_update": true,
            "description": "a",
            "description_tooltip": null,
            "disabled": false,
            "layout": "IPY_MODEL_34672c4d2b2f4a5fb60d40129bf1314b",
            "max": 10000,
            "min": 1000,
            "orientation": "horizontal",
            "readout": true,
            "readout_format": ".2f",
            "step": 1000,
            "style": "IPY_MODEL_87be5818dbfd4e558f435578dd9cfa4a",
            "value": 1000
          }
        },
        "1873292d26334418a155db861badeea1": {
          "model_module": "@jupyter-widgets/controls",
          "model_name": "FloatSliderModel",
          "model_module_version": "1.5.0",
          "state": {
            "_dom_classes": [],
            "_model_module": "@jupyter-widgets/controls",
            "_model_module_version": "1.5.0",
            "_model_name": "FloatSliderModel",
            "_view_count": null,
            "_view_module": "@jupyter-widgets/controls",
            "_view_module_version": "1.5.0",
            "_view_name": "FloatSliderView",
            "continuous_update": true,
            "description": "d",
            "description_tooltip": null,
            "disabled": false,
            "layout": "IPY_MODEL_eae7b5593e344274a79aa2dffa1f71fc",
            "max": 10000,
            "min": 1000,
            "orientation": "horizontal",
            "readout": true,
            "readout_format": ".2f",
            "step": 1000,
            "style": "IPY_MODEL_75f57ba7588449c79ab37773c05e2190",
            "value": 1000
          }
        },
        "f6efead1c705436093cd5f822e6860dd": {
          "model_module": "@jupyter-widgets/output",
          "model_name": "OutputModel",
          "model_module_version": "1.0.0",
          "state": {
            "_dom_classes": [],
            "_model_module": "@jupyter-widgets/output",
            "_model_module_version": "1.0.0",
            "_model_name": "OutputModel",
            "_view_count": null,
            "_view_module": "@jupyter-widgets/output",
            "_view_module_version": "1.0.0",
            "_view_name": "OutputView",
            "layout": "IPY_MODEL_500fbda8a6564060b5819b284f06047f",
            "msg_id": "",
            "outputs": [
              {
                "output_type": "display_data",
                "data": {
                  "text/plain": "<Figure size 432x288 with 1 Axes>",
                  "image/png": "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\n"
                },
                "metadata": {
                  "needs_background": "light"
                }
              },
              {
                "output_type": "display_data",
                "data": {
                  "text/plain": "<module 'matplotlib.pyplot' from '/usr/local/lib/python3.7/dist-packages/matplotlib/pyplot.py'>"
                },
                "metadata": {}
              }
            ]
          }
        },
        "884b6972562b4407b40fd3828d03267d": {
          "model_module": "@jupyter-widgets/base",
          "model_name": "LayoutModel",
          "model_module_version": "1.2.0",
          "state": {
            "_model_module": "@jupyter-widgets/base",
            "_model_module_version": "1.2.0",
            "_model_name": "LayoutModel",
            "_view_count": null,
            "_view_module": "@jupyter-widgets/base",
            "_view_module_version": "1.2.0",
            "_view_name": "LayoutView",
            "align_content": null,
            "align_items": null,
            "align_self": null,
            "border": null,
            "bottom": null,
            "display": null,
            "flex": null,
            "flex_flow": null,
            "grid_area": null,
            "grid_auto_columns": null,
            "grid_auto_flow": null,
            "grid_auto_rows": null,
            "grid_column": null,
            "grid_gap": null,
            "grid_row": null,
            "grid_template_areas": null,
            "grid_template_columns": null,
            "grid_template_rows": null,
            "height": null,
            "justify_content": null,
            "justify_items": null,
            "left": null,
            "margin": null,
            "max_height": null,
            "max_width": null,
            "min_height": null,
            "min_width": null,
            "object_fit": null,
            "object_position": null,
            "order": null,
            "overflow": null,
            "overflow_x": null,
            "overflow_y": null,
            "padding": null,
            "right": null,
            "top": null,
            "visibility": null,
            "width": null
          }
        },
        "34672c4d2b2f4a5fb60d40129bf1314b": {
          "model_module": "@jupyter-widgets/base",
          "model_name": "LayoutModel",
          "model_module_version": "1.2.0",
          "state": {
            "_model_module": "@jupyter-widgets/base",
            "_model_module_version": "1.2.0",
            "_model_name": "LayoutModel",
            "_view_count": null,
            "_view_module": "@jupyter-widgets/base",
            "_view_module_version": "1.2.0",
            "_view_name": "LayoutView",
            "align_content": null,
            "align_items": null,
            "align_self": null,
            "border": null,
            "bottom": null,
            "display": null,
            "flex": null,
            "flex_flow": null,
            "grid_area": null,
            "grid_auto_columns": null,
            "grid_auto_flow": null,
            "grid_auto_rows": null,
            "grid_column": null,
            "grid_gap": null,
            "grid_row": null,
            "grid_template_areas": null,
            "grid_template_columns": null,
            "grid_template_rows": null,
            "height": null,
            "justify_content": null,
            "justify_items": null,
            "left": null,
            "margin": null,
            "max_height": null,
            "max_width": null,
            "min_height": null,
            "min_width": null,
            "object_fit": null,
            "object_position": null,
            "order": null,
            "overflow": null,
            "overflow_x": null,
            "overflow_y": null,
            "padding": null,
            "right": null,
            "top": null,
            "visibility": null,
            "width": null
          }
        },
        "87be5818dbfd4e558f435578dd9cfa4a": {
          "model_module": "@jupyter-widgets/controls",
          "model_name": "SliderStyleModel",
          "model_module_version": "1.5.0",
          "state": {
            "_model_module": "@jupyter-widgets/controls",
            "_model_module_version": "1.5.0",
            "_model_name": "SliderStyleModel",
            "_view_count": null,
            "_view_module": "@jupyter-widgets/base",
            "_view_module_version": "1.2.0",
            "_view_name": "StyleView",
            "description_width": "",
            "handle_color": null
          }
        },
        "eae7b5593e344274a79aa2dffa1f71fc": {
          "model_module": "@jupyter-widgets/base",
          "model_name": "LayoutModel",
          "model_module_version": "1.2.0",
          "state": {
            "_model_module": "@jupyter-widgets/base",
            "_model_module_version": "1.2.0",
            "_model_name": "LayoutModel",
            "_view_count": null,
            "_view_module": "@jupyter-widgets/base",
            "_view_module_version": "1.2.0",
            "_view_name": "LayoutView",
            "align_content": null,
            "align_items": null,
            "align_self": null,
            "border": null,
            "bottom": null,
            "display": null,
            "flex": null,
            "flex_flow": null,
            "grid_area": null,
            "grid_auto_columns": null,
            "grid_auto_flow": null,
            "grid_auto_rows": null,
            "grid_column": null,
            "grid_gap": null,
            "grid_row": null,
            "grid_template_areas": null,
            "grid_template_columns": null,
            "grid_template_rows": null,
            "height": null,
            "justify_content": null,
            "justify_items": null,
            "left": null,
            "margin": null,
            "max_height": null,
            "max_width": null,
            "min_height": null,
            "min_width": null,
            "object_fit": null,
            "object_position": null,
            "order": null,
            "overflow": null,
            "overflow_x": null,
            "overflow_y": null,
            "padding": null,
            "right": null,
            "top": null,
            "visibility": null,
            "width": null
          }
        },
        "75f57ba7588449c79ab37773c05e2190": {
          "model_module": "@jupyter-widgets/controls",
          "model_name": "SliderStyleModel",
          "model_module_version": "1.5.0",
          "state": {
            "_model_module": "@jupyter-widgets/controls",
            "_model_module_version": "1.5.0",
            "_model_name": "SliderStyleModel",
            "_view_count": null,
            "_view_module": "@jupyter-widgets/base",
            "_view_module_version": "1.2.0",
            "_view_name": "StyleView",
            "description_width": "",
            "handle_color": null
          }
        },
        "500fbda8a6564060b5819b284f06047f": {
          "model_module": "@jupyter-widgets/base",
          "model_name": "LayoutModel",
          "model_module_version": "1.2.0",
          "state": {
            "_model_module": "@jupyter-widgets/base",
            "_model_module_version": "1.2.0",
            "_model_name": "LayoutModel",
            "_view_count": null,
            "_view_module": "@jupyter-widgets/base",
            "_view_module_version": "1.2.0",
            "_view_name": "LayoutView",
            "align_content": null,
            "align_items": null,
            "align_self": null,
            "border": null,
            "bottom": null,
            "display": null,
            "flex": null,
            "flex_flow": null,
            "grid_area": null,
            "grid_auto_columns": null,
            "grid_auto_flow": null,
            "grid_auto_rows": null,
            "grid_column": null,
            "grid_gap": null,
            "grid_row": null,
            "grid_template_areas": null,
            "grid_template_columns": null,
            "grid_template_rows": null,
            "height": null,
            "justify_content": null,
            "justify_items": null,
            "left": null,
            "margin": null,
            "max_height": null,
            "max_width": null,
            "min_height": null,
            "min_width": null,
            "object_fit": null,
            "object_position": null,
            "order": null,
            "overflow": null,
            "overflow_x": null,
            "overflow_y": null,
            "padding": null,
            "right": null,
            "top": null,
            "visibility": null,
            "width": null
          }
        }
      }
    }
  },
  "cells": [
    {
      "cell_type": "markdown",
      "metadata": {
        "id": "view-in-github",
        "colab_type": "text"
      },
      "source": [
        "<a href=\"https://colab.research.google.com/github/AndrewKorn/physics_nsu/blob/main/defraction_grid_visualisation.ipynb\" target=\"_parent\"><img src=\"https://colab.research.google.com/assets/colab-badge.svg\" alt=\"Open In Colab\"/></a>"
      ]
    },
    {
      "cell_type": "markdown",
      "source": [
        "#Дифракционная решетка"
      ],
      "metadata": {
        "id": "Rdp8yr2pBK-8"
      }
    },
    {
      "cell_type": "markdown",
      "source": [
        "![LtmoLkuB1jHEla6ZbqMBd8Ala6NISCGHncttvTAsdkqZLo_qbFS7LmDoJkCD1vI-FqVm_bS-PIP5dFO28CbZCIeu.jpg](data:image/jpeg;base64,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)"
      ],
      "metadata": {
        "id": "pV1OLRxjBX7B"
      }
    },
    {
      "cell_type": "markdown",
      "source": [
        "$$I(θ) =  I_0 \\biggl[sinc(\\frac{πa}{λ}sinθ)\\biggl]^2 · \\biggl[\\frac{sin(\\frac{Nπd}{λ}sinθ)}{sin(\\frac{πd}{λ}sinθ)}\\biggl]^2$$"
      ],
      "metadata": {
        "id": "ShgqslPzBchl"
      }
    },
    {
      "cell_type": "code",
      "execution_count": 21,
      "metadata": {
        "id": "KAKjgqeGynsp"
      },
      "outputs": [],
      "source": [
        "import matplotlib.pyplot as plt\n",
        "import numpy as np\n",
        "import math\n",
        "from ipywidgets import interact, FloatSlider, widgets"
      ]
    },
    {
      "cell_type": "code",
      "source": [
        "def sinc(x):\n",
        "  return math.sin(x) / x"
      ],
      "metadata": {
        "id": "vRa0y9tc89jc"
      },
      "execution_count": 22,
      "outputs": []
    },
    {
      "cell_type": "code",
      "source": [
        "def parameter(angle, wave, d):\n",
        "  return math.pi * d * math.sin(angle) / wave"
      ],
      "metadata": {
        "id": "kND13EIn9D2R"
      },
      "execution_count": 23,
      "outputs": []
    },
    {
      "cell_type": "code",
      "source": [
        "def intensity(angle, wave, n, a, d, intensity_0):\n",
        "  p = parameter(angle, wave, d)\n",
        "\n",
        "  return intensity_0 * (( sinc(math.pi * a * math.sin(angle) / wave) * (math.sin(n * p) / math.sin(p)) ) ** 2)"
      ],
      "metadata": {
        "id": "EkmJvLyu9Qo4"
      },
      "execution_count": 24,
      "outputs": []
    },
    {
      "cell_type": "code",
      "source": [
        "def get_plt(a, d):\n",
        "  n = 10\n",
        "  a = a\n",
        "  d = d\n",
        "  intensity_0 = 1\n",
        "\n",
        "  len_v = 400\n",
        "  len_r = 700\n",
        "\n",
        "  k = 4 #количество максимумов\n",
        "  angle_max = (k * len_v / d) #d*sin(angle) = k * len_wave\n",
        "  x = np.linspace(-angle_max, angle_max, 10000)\n",
        "\n",
        "  x_sin = [math.sin(x_) for x_ in x]\n",
        "  y_v = [intensity(x_, len_v, n, a, d, intensity_0) for x_ in x]\n",
        "  y_r = [intensity(x_, len_r, n, a, d, intensity_0) for x_ in x]\n",
        "\n",
        "  plt.plot(x_sin, y_v, color=\"purple\")\n",
        "  plt.plot(x_sin, y_r, color=\"red\")\n",
        "  return plt\n",
        "\n",
        "get_plt(4000, 10000)  "
      ],
      "metadata": {
        "colab": {
          "base_uri": "https://localhost:8080/",
          "height": 282
        },
        "id": "SfGmY5lX9ncV",
        "outputId": "b481bc27-f930-4139-fed8-7553ee7f98e8"
      },
      "execution_count": 25,
      "outputs": [
        {
          "output_type": "execute_result",
          "data": {
            "text/plain": [
              "<module 'matplotlib.pyplot' from '/usr/local/lib/python3.7/dist-packages/matplotlib/pyplot.py'>"
            ]
          },
          "metadata": {},
          "execution_count": 25
        },
        {
          "output_type": "display_data",
          "data": {
            "text/plain": [
              "<Figure size 432x288 with 1 Axes>"
            ],
            "image/png": "[encoded data removed]"
          },
          "metadata": {
            "needs_background": "light"
          }
        }
      ]
    },
    {
      "cell_type": "code",
      "source": [
        "interact(\n",
        "    get_plt,\n",
        "    a = FloatSlider(min=1000, max=10000, step=1000),\n",
        "    d = FloatSlider(min=1000, max=10000, step=1000)\n",
        ")"
      ],
      "metadata": {
        "colab": {
          "base_uri": "https://localhost:8080/",
          "height": 364,
          "referenced_widgets": [
            "694d505dc82b4f32b93bb9c0c97ac395",
            "cd4db7179afb486ab40ada27cdef7dba",
            "1873292d26334418a155db861badeea1",
            "f6efead1c705436093cd5f822e6860dd",
            "884b6972562b4407b40fd3828d03267d",
            "34672c4d2b2f4a5fb60d40129bf1314b",
            "87be5818dbfd4e558f435578dd9cfa4a",
            "eae7b5593e344274a79aa2dffa1f71fc",
            "75f57ba7588449c79ab37773c05e2190",
            "500fbda8a6564060b5819b284f06047f"
          ]
        },
        "id": "hW68j9zGAZgK",
        "outputId": "61943bd7-a251-4349-a076-2bfd0d197f51"
      },
      "execution_count": 26,
      "outputs": [
        {
          "output_type": "display_data",
          "data": {
            "text/plain": [
              "interactive(children=(FloatSlider(value=1000.0, description='a', max=10000.0, min=1000.0, step=1000.0), FloatS…"
            ],
            "application/vnd.jupyter.widget-view+json": {
              "version_major": 2,
              "version_minor": 0,
              "model_id": "694d505dc82b4f32b93bb9c0c97ac395"
            }
          },
          "metadata": {}
        },
        {
          "output_type": "execute_result",
          "data": {
            "text/plain": [
              "<function __main__.get_plt>"
            ]
          },
          "metadata": {},
          "execution_count": 26
        }
      ]
    }
  ]
}